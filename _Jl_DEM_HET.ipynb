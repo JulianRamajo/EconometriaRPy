{
 "cells": [
  {
   "cell_type": "code",
   "execution_count": 72,
   "id": "fc4b21ca-b67b-4927-aee1-f7ea46a9a63c",
   "metadata": {},
   "outputs": [],
   "source": [
    "# Lectura de librerías\n",
    "using DataFrames, CSV, Econometrics;\n",
    "using Query;"
   ]
  },
  {
   "cell_type": "code",
   "execution_count": 73,
   "id": "7865a1fb-c27d-4339-a025-898c09e5b7e6",
   "metadata": {},
   "outputs": [],
   "source": [
    "# Lectura de datos\n",
    "DEM_HET  = CSV.read(\"DEM_HET.csv\", DataFrame);"
   ]
  },
  {
   "cell_type": "code",
   "execution_count": 74,
   "id": "ca931331-ae8c-46a7-ab80-acad456d7dbe",
   "metadata": {},
   "outputs": [
    {
     "data": {
      "text/html": [
       "<table class=\"data-frame\"><thead><tr><th></th><th>variable</th><th>mean</th><th>min</th><th>median</th><th>max</th><th>nunique</th><th>nmissing</th><th>eltype</th></tr><tr><th></th><th>Symbol</th><th>Float64</th><th>Float64</th><th>Float64</th><th>Float64</th><th>Nothing</th><th>Nothing</th><th>DataType</th></tr></thead><tbody><p>5 rows × 8 columns</p><tr><th>1</th><td>PA</td><td>109.024</td><td>89.15</td><td>111.77</td><td>124.85</td><td></td><td></td><td>Float64</td></tr><tr><th>2</th><td>PB</td><td>81.9117</td><td>51.04</td><td>81.49</td><td>111.66</td><td></td><td></td><td>Float64</td></tr><tr><th>3</th><td>PC</td><td>127.679</td><td>85.85</td><td>130.835</td><td>182.04</td><td></td><td></td><td>Float64</td></tr><tr><th>4</th><td>QA</td><td>109.594</td><td>93.01</td><td>105.93</td><td>140.97</td><td></td><td></td><td>Float64</td></tr><tr><th>5</th><td>Y</td><td>180.645</td><td>100.0</td><td>188.37</td><td>254.95</td><td></td><td></td><td>Float64</td></tr></tbody></table>"
      ],
      "text/latex": [
       "\\begin{tabular}{r|cccccccc}\n",
       "\t& variable & mean & min & median & max & nunique & nmissing & eltype\\\\\n",
       "\t\\hline\n",
       "\t& Symbol & Float64 & Float64 & Float64 & Float64 & Nothing & Nothing & DataType\\\\\n",
       "\t\\hline\n",
       "\t1 & PA & 109.024 & 89.15 & 111.77 & 124.85 &  &  & Float64 \\\\\n",
       "\t2 & PB & 81.9117 & 51.04 & 81.49 & 111.66 &  &  & Float64 \\\\\n",
       "\t3 & PC & 127.679 & 85.85 & 130.835 & 182.04 &  &  & Float64 \\\\\n",
       "\t4 & QA & 109.594 & 93.01 & 105.93 & 140.97 &  &  & Float64 \\\\\n",
       "\t5 & Y & 180.645 & 100.0 & 188.37 & 254.95 &  &  & Float64 \\\\\n",
       "\\end{tabular}\n"
      ],
      "text/plain": [
       "5×8 DataFrame. Omitted printing of 1 columns\n",
       "│ Row │ variable │ mean    │ min     │ median  │ max     │ nunique │ nmissing │\n",
       "│     │ \u001b[90mSymbol\u001b[39m   │ \u001b[90mFloat64\u001b[39m │ \u001b[90mFloat64\u001b[39m │ \u001b[90mFloat64\u001b[39m │ \u001b[90mFloat64\u001b[39m │ \u001b[90mNothing\u001b[39m │ \u001b[90mNothing\u001b[39m  │\n",
       "├─────┼──────────┼─────────┼─────────┼─────────┼─────────┼─────────┼──────────┤\n",
       "│ 1   │ PA       │ 109.024 │ 89.15   │ 111.77  │ 124.85  │         │          │\n",
       "│ 2   │ PB       │ 81.9117 │ 51.04   │ 81.49   │ 111.66  │         │          │\n",
       "│ 3   │ PC       │ 127.679 │ 85.85   │ 130.835 │ 182.04  │         │          │\n",
       "│ 4   │ QA       │ 109.594 │ 93.01   │ 105.93  │ 140.97  │         │          │\n",
       "│ 5   │ Y        │ 180.645 │ 100.0   │ 188.37  │ 254.95  │         │          │"
      ]
     },
     "execution_count": 74,
     "metadata": {},
     "output_type": "execute_result"
    }
   ],
   "source": [
    "describe(DEM_HET)"
   ]
  },
  {
   "cell_type": "code",
   "execution_count": 75,
   "id": "0dd8bcf9-68fb-40e0-a484-da833c2ac0d9",
   "metadata": {},
   "outputs": [
    {
     "data": {
      "text/plain": [
       "Continuous Response Model\n",
       "Number of observations: 30\n",
       "Null Loglikelihood: 21.03\n",
       "Loglikelihood: 37.17\n",
       "R-squared: 0.6643\n",
       "LR Test: 32.28 ∼ χ²(4) ⟹  Pr > χ² = 0.0000\n",
       "Formula: log(QA) ~ 1 + (log(PA)) + (log(PB)) + (log(PC)) + (log(Y))\n",
       "Variance Covariance Estimator: OIM\n",
       "───────────────────────────────────────────────────────────────────────────\n",
       "                 PE        SE      t-value  Pr > |t|      2.50%      97.50%\n",
       "───────────────────────────────────────────────────────────────────────────\n",
       "(Intercept)   4.27468   1.20524    3.54676    0.0016   1.79245    6.75691\n",
       "log(PA)      -0.89012   0.215719  -4.1263     0.0004  -1.3344    -0.445839\n",
       "log(PB)       0.554186  0.130026   4.26212    0.0003   0.286393   0.82198\n",
       "log(PC)      -0.349092  0.183114  -1.90642    0.0682  -0.726222   0.0280386\n",
       "log(Y)        0.743952  0.135187   5.50313    <1e-04   0.465529   1.02238\n",
       "───────────────────────────────────────────────────────────────────────────"
      ]
     },
     "execution_count": 75,
     "metadata": {},
     "output_type": "execute_result"
    }
   ],
   "source": [
    "# Estimación MCO\n",
    "modelo_MCO = fit(EconometricModel, @formula(log(QA) ~ log(PA) + log(PB) + log(PC)+ log(Y)), DEM_HET)"
   ]
  },
  {
   "cell_type": "code",
   "execution_count": 77,
   "id": "9a7b84fb-60a5-4841-b1ae-84463edda3a3",
   "metadata": {},
   "outputs": [
    {
     "data": {
      "text/plain": [
       "Continuous Response Model\n",
       "Number of observations: 30\n",
       "Null Loglikelihood: 21.03\n",
       "Loglikelihood: 37.17\n",
       "R-squared: 0.6643\n",
       "LR Test: 32.28 ∼ χ²(4) ⟹  Pr > χ² = 0.0000\n",
       "Formula: log(QA) ~ 1 + (log(PA)) + (log(PB)) + (log(PC)) + (log(Y))\n",
       "Variance Covariance Estimator: HC1\n",
       "────────────────────────────────────────────────────────────────────────────\n",
       "                 PE         SE      t-value  Pr > |t|      2.50%      97.50%\n",
       "────────────────────────────────────────────────────────────────────────────\n",
       "(Intercept)   4.27468   0.899308    4.7533     <1e-04   2.42252    6.12684\n",
       "log(PA)      -0.89012   0.135608   -6.5639     <1e-06  -1.16941   -0.610829\n",
       "log(PB)       0.554186  0.0833103   6.65208    <1e-06   0.382606   0.725767\n",
       "log(PC)      -0.349092  0.150585   -2.31824    0.0289  -0.659227  -0.0389561\n",
       "log(Y)        0.743952  0.118791    6.2627     <1e-05   0.499298   0.988607\n",
       "────────────────────────────────────────────────────────────────────────────"
      ]
     },
     "execution_count": 77,
     "metadata": {},
     "output_type": "execute_result"
    }
   ],
   "source": [
    "# Estimación MCO-HC\n",
    "modelo_MCO_HC = fit(EconometricModel, @formula(log(QA) ~ log(PA) + log(PB) + log(PC)+ log(Y)), DEM_HET, vce = HC1)"
   ]
  },
  {
   "cell_type": "code",
   "execution_count": 82,
   "id": "7cde407e-9829-43cf-93f4-6b58510b608c",
   "metadata": {},
   "outputs": [
    {
     "data": {
      "text/plain": [
       "30-element Vector{Float64}:\n",
       "  0.05912411898114378\n",
       " -0.0008175975266127011\n",
       "  0.036935136714103756\n",
       " -0.06591029527972747\n",
       "  0.0419812704695266\n",
       " -0.002979112197225575\n",
       "  0.00448553521895434\n",
       " -0.014487919269589256\n",
       "  0.02808339410341798\n",
       " -0.0284621745652176\n",
       " -0.053587722822471484\n",
       " -0.04625676727132255\n",
       "  0.08775480999629082\n",
       "  ⋮\n",
       "  0.05563910088424784\n",
       "  0.0387555892479341\n",
       " -0.016785072615013163\n",
       " -0.022475488340812255\n",
       " -0.05610322139894208\n",
       " -0.07382160637492774\n",
       "  0.20190877131414808\n",
       " -0.013654721693768579\n",
       "  0.16212542013583864\n",
       " -0.11825870250511983\n",
       " -0.04714529613052143\n",
       "  0.07831582564764794"
      ]
     },
     "execution_count": 82,
     "metadata": {},
     "output_type": "execute_result"
    }
   ],
   "source": [
    "resid=residuals(modelo_MCO)"
   ]
  },
  {
   "cell_type": "code",
   "execution_count": 83,
   "id": "becaf4f2-2c23-4fa7-8ddb-b22416c55c6c",
   "metadata": {},
   "outputs": [
    {
     "data": {
      "text/plain": [
       "30-element Vector{Float64}:\n",
       " 100.0\n",
       " 107.779998779297\n",
       " 111.129997253418\n",
       " 116.959999084473\n",
       " 118.529998779297\n",
       " 127.160003662109\n",
       " 133.309997558594\n",
       " 134.740005493164\n",
       " 153.679992675781\n",
       " 155.440002441406\n",
       " 161.320007324219\n",
       " 164.440002441406\n",
       " 166.929992675781\n",
       "   ⋮\n",
       " 204.270004272461\n",
       " 208.779998779297\n",
       " 216.619995117188\n",
       " 217.800003051758\n",
       " 222.110000610352\n",
       " 222.309997558594\n",
       " 231.130004882812\n",
       " 231.190002441406\n",
       " 234.25\n",
       " 241.949996948242\n",
       " 242.160003662109\n",
       " 254.949996948242"
      ]
     },
     "execution_count": 83,
     "metadata": {},
     "output_type": "execute_result"
    }
   ],
   "source": [
    "Y=(DEM_HET.Y)"
   ]
  },
  {
   "cell_type": "code",
   "execution_count": 84,
   "id": "1867e033-2ad9-4977-9745-0582c22973be",
   "metadata": {},
   "outputs": [
    {
     "data": {
      "text/html": [
       "<table class=\"data-frame\"><thead><tr><th></th></tr><tr><th></th></tr></thead><tbody><p>0 rows × 0 columns</p></tbody></table>"
      ],
      "text/latex": [
       "\\begin{tabular}{r|}\n",
       "\t& \\\\\n",
       "\t\\hline\n",
       "\t& \\\\\n",
       "\t\\hline\n",
       "\\end{tabular}\n"
      ],
      "text/plain": [
       "0×0 DataFrame\n"
      ]
     },
     "execution_count": 84,
     "metadata": {},
     "output_type": "execute_result"
    }
   ],
   "source": [
    "# Regresión auxiliar\n",
    "data = DataFrame()"
   ]
  },
  {
   "cell_type": "code",
   "execution_count": 85,
   "id": "47cb12a1-e6ff-467c-b75c-3e11fe57303b",
   "metadata": {},
   "outputs": [
    {
     "data": {
      "text/plain": [
       "30-element Vector{Float64}:\n",
       "  0.05912411898114378\n",
       " -0.0008175975266127011\n",
       "  0.036935136714103756\n",
       " -0.06591029527972747\n",
       "  0.0419812704695266\n",
       " -0.002979112197225575\n",
       "  0.00448553521895434\n",
       " -0.014487919269589256\n",
       "  0.02808339410341798\n",
       " -0.0284621745652176\n",
       " -0.053587722822471484\n",
       " -0.04625676727132255\n",
       "  0.08775480999629082\n",
       "  ⋮\n",
       "  0.05563910088424784\n",
       "  0.0387555892479341\n",
       " -0.016785072615013163\n",
       " -0.022475488340812255\n",
       " -0.05610322139894208\n",
       " -0.07382160637492774\n",
       "  0.20190877131414808\n",
       " -0.013654721693768579\n",
       "  0.16212542013583864\n",
       " -0.11825870250511983\n",
       " -0.04714529613052143\n",
       "  0.07831582564764794"
      ]
     },
     "execution_count": 85,
     "metadata": {},
     "output_type": "execute_result"
    }
   ],
   "source": [
    "data.resid = resid"
   ]
  },
  {
   "cell_type": "code",
   "execution_count": 86,
   "id": "2186553b-c2d8-416e-ab34-3747bc540fc6",
   "metadata": {},
   "outputs": [
    {
     "data": {
      "text/plain": [
       "30-element Vector{Float64}:\n",
       " 100.0\n",
       " 107.779998779297\n",
       " 111.129997253418\n",
       " 116.959999084473\n",
       " 118.529998779297\n",
       " 127.160003662109\n",
       " 133.309997558594\n",
       " 134.740005493164\n",
       " 153.679992675781\n",
       " 155.440002441406\n",
       " 161.320007324219\n",
       " 164.440002441406\n",
       " 166.929992675781\n",
       "   ⋮\n",
       " 204.270004272461\n",
       " 208.779998779297\n",
       " 216.619995117188\n",
       " 217.800003051758\n",
       " 222.110000610352\n",
       " 222.309997558594\n",
       " 231.130004882812\n",
       " 231.190002441406\n",
       " 234.25\n",
       " 241.949996948242\n",
       " 242.160003662109\n",
       " 254.949996948242"
      ]
     },
     "execution_count": 86,
     "metadata": {},
     "output_type": "execute_result"
    }
   ],
   "source": [
    "data.Y = Y"
   ]
  },
  {
   "cell_type": "code",
   "execution_count": 87,
   "id": "64537d11-8d16-4f1e-84ee-c50609467f69",
   "metadata": {},
   "outputs": [
    {
     "data": {
      "text/html": [
       "<table class=\"data-frame\"><thead><tr><th></th><th>resid</th><th>Y</th></tr><tr><th></th><th>Float64</th><th>Float64</th></tr></thead><tbody><p>30 rows × 2 columns</p><tr><th>1</th><td>0.0591241</td><td>100.0</td></tr><tr><th>2</th><td>-0.000817598</td><td>107.78</td></tr><tr><th>3</th><td>0.0369351</td><td>111.13</td></tr><tr><th>4</th><td>-0.0659103</td><td>116.96</td></tr><tr><th>5</th><td>0.0419813</td><td>118.53</td></tr><tr><th>6</th><td>-0.00297911</td><td>127.16</td></tr><tr><th>7</th><td>0.00448554</td><td>133.31</td></tr><tr><th>8</th><td>-0.0144879</td><td>134.74</td></tr><tr><th>9</th><td>0.0280834</td><td>153.68</td></tr><tr><th>10</th><td>-0.0284622</td><td>155.44</td></tr><tr><th>11</th><td>-0.0535877</td><td>161.32</td></tr><tr><th>12</th><td>-0.0462568</td><td>164.44</td></tr><tr><th>13</th><td>0.0877548</td><td>166.93</td></tr><tr><th>14</th><td>-0.0341167</td><td>181.73</td></tr><tr><th>15</th><td>-0.05291</td><td>188.0</td></tr><tr><th>16</th><td>-0.00580232</td><td>188.74</td></tr><tr><th>17</th><td>-0.0389431</td><td>189.13</td></tr><tr><th>18</th><td>-0.102591</td><td>192.8</td></tr><tr><th>19</th><td>0.0556391</td><td>204.27</td></tr><tr><th>20</th><td>0.0387556</td><td>208.78</td></tr><tr><th>21</th><td>-0.0167851</td><td>216.62</td></tr><tr><th>22</th><td>-0.0224755</td><td>217.8</td></tr><tr><th>23</th><td>-0.0561032</td><td>222.11</td></tr><tr><th>24</th><td>-0.0738216</td><td>222.31</td></tr><tr><th>25</th><td>0.201909</td><td>231.13</td></tr><tr><th>26</th><td>-0.0136547</td><td>231.19</td></tr><tr><th>27</th><td>0.162125</td><td>234.25</td></tr><tr><th>28</th><td>-0.118259</td><td>241.95</td></tr><tr><th>29</th><td>-0.0471453</td><td>242.16</td></tr><tr><th>30</th><td>0.0783158</td><td>254.95</td></tr></tbody></table>"
      ],
      "text/latex": [
       "\\begin{tabular}{r|cc}\n",
       "\t& resid & Y\\\\\n",
       "\t\\hline\n",
       "\t& Float64 & Float64\\\\\n",
       "\t\\hline\n",
       "\t1 & 0.0591241 & 100.0 \\\\\n",
       "\t2 & -0.000817598 & 107.78 \\\\\n",
       "\t3 & 0.0369351 & 111.13 \\\\\n",
       "\t4 & -0.0659103 & 116.96 \\\\\n",
       "\t5 & 0.0419813 & 118.53 \\\\\n",
       "\t6 & -0.00297911 & 127.16 \\\\\n",
       "\t7 & 0.00448554 & 133.31 \\\\\n",
       "\t8 & -0.0144879 & 134.74 \\\\\n",
       "\t9 & 0.0280834 & 153.68 \\\\\n",
       "\t10 & -0.0284622 & 155.44 \\\\\n",
       "\t11 & -0.0535877 & 161.32 \\\\\n",
       "\t12 & -0.0462568 & 164.44 \\\\\n",
       "\t13 & 0.0877548 & 166.93 \\\\\n",
       "\t14 & -0.0341167 & 181.73 \\\\\n",
       "\t15 & -0.05291 & 188.0 \\\\\n",
       "\t16 & -0.00580232 & 188.74 \\\\\n",
       "\t17 & -0.0389431 & 189.13 \\\\\n",
       "\t18 & -0.102591 & 192.8 \\\\\n",
       "\t19 & 0.0556391 & 204.27 \\\\\n",
       "\t20 & 0.0387556 & 208.78 \\\\\n",
       "\t21 & -0.0167851 & 216.62 \\\\\n",
       "\t22 & -0.0224755 & 217.8 \\\\\n",
       "\t23 & -0.0561032 & 222.11 \\\\\n",
       "\t24 & -0.0738216 & 222.31 \\\\\n",
       "\t25 & 0.201909 & 231.13 \\\\\n",
       "\t26 & -0.0136547 & 231.19 \\\\\n",
       "\t27 & 0.162125 & 234.25 \\\\\n",
       "\t28 & -0.118259 & 241.95 \\\\\n",
       "\t29 & -0.0471453 & 242.16 \\\\\n",
       "\t30 & 0.0783158 & 254.95 \\\\\n",
       "\\end{tabular}\n"
      ],
      "text/plain": [
       "30×2 DataFrame\n",
       "│ Row │ resid        │ Y       │\n",
       "│     │ \u001b[90mFloat64\u001b[39m      │ \u001b[90mFloat64\u001b[39m │\n",
       "├─────┼──────────────┼─────────┤\n",
       "│ 1   │ 0.0591241    │ 100.0   │\n",
       "│ 2   │ -0.000817598 │ 107.78  │\n",
       "│ 3   │ 0.0369351    │ 111.13  │\n",
       "│ 4   │ -0.0659103   │ 116.96  │\n",
       "│ 5   │ 0.0419813    │ 118.53  │\n",
       "│ 6   │ -0.00297911  │ 127.16  │\n",
       "│ 7   │ 0.00448554   │ 133.31  │\n",
       "│ 8   │ -0.0144879   │ 134.74  │\n",
       "│ 9   │ 0.0280834    │ 153.68  │\n",
       "│ 10  │ -0.0284622   │ 155.44  │\n",
       "⋮\n",
       "│ 20  │ 0.0387556    │ 208.78  │\n",
       "│ 21  │ -0.0167851   │ 216.62  │\n",
       "│ 22  │ -0.0224755   │ 217.8   │\n",
       "│ 23  │ -0.0561032   │ 222.11  │\n",
       "│ 24  │ -0.0738216   │ 222.31  │\n",
       "│ 25  │ 0.201909     │ 231.13  │\n",
       "│ 26  │ -0.0136547   │ 231.19  │\n",
       "│ 27  │ 0.162125     │ 234.25  │\n",
       "│ 28  │ -0.118259    │ 241.95  │\n",
       "│ 29  │ -0.0471453   │ 242.16  │\n",
       "│ 30  │ 0.0783158    │ 254.95  │"
      ]
     },
     "execution_count": 87,
     "metadata": {},
     "output_type": "execute_result"
    }
   ],
   "source": [
    "data"
   ]
  },
  {
   "cell_type": "code",
   "execution_count": 109,
   "id": "e652f29e-47b7-416c-bd11-efcf0690ba82",
   "metadata": {},
   "outputs": [
    {
     "data": {
      "text/html": [
       "<table class=\"data-frame\"><thead><tr><th></th><th>resid</th><th>Y</th><th>l_sigma2</th><th>resid2</th><th>l_Y</th></tr><tr><th></th><th>Float64</th><th>Float64</th><th>Float64</th><th>Float64</th><th>Float64</th></tr></thead><tbody><p>30 rows × 5 columns</p><tr><th>1</th><td>0.0591241</td><td>100.0</td><td>-8.94482</td><td>0.00349566</td><td>4.60517</td></tr><tr><th>2</th><td>-0.000817598</td><td>107.78</td><td>-8.65664</td><td>6.68466e-7</td><td>4.68009</td></tr><tr><th>3</th><td>0.0369351</td><td>111.13</td><td>-8.53891</td><td>0.0013642</td><td>4.7107</td></tr><tr><th>4</th><td>-0.0659103</td><td>116.96</td><td>-8.34224</td><td>0.00434417</td><td>4.76183</td></tr><tr><th>5</th><td>0.0419813</td><td>118.53</td><td>-8.29096</td><td>0.00176243</td><td>4.77517</td></tr><tr><th>6</th><td>-0.00297911</td><td>127.16</td><td>-8.02064</td><td>8.87511e-6</td><td>4.84545</td></tr><tr><th>7</th><td>0.00448554</td><td>133.31</td><td>-7.83897</td><td>2.012e-5</td><td>4.89268</td></tr><tr><th>8</th><td>-0.0144879</td><td>134.74</td><td>-7.79793</td><td>0.0002099</td><td>4.90335</td></tr><tr><th>9</th><td>0.0280834</td><td>153.68</td><td>-7.29204</td><td>0.000788677</td><td>5.03487</td></tr><tr><th>10</th><td>-0.0284622</td><td>155.44</td><td>-7.24824</td><td>0.000810095</td><td>5.04626</td></tr><tr><th>11</th><td>-0.0535877</td><td>161.32</td><td>-7.10542</td><td>0.00287164</td><td>5.08339</td></tr><tr><th>12</th><td>-0.0462568</td><td>164.44</td><td>-7.03174</td><td>0.00213969</td><td>5.10255</td></tr><tr><th>13</th><td>0.0877548</td><td>166.93</td><td>-6.97394</td><td>0.00770091</td><td>5.11757</td></tr><tr><th>14</th><td>-0.0341167</td><td>181.73</td><td>-6.6472</td><td>0.00116395</td><td>5.20252</td></tr><tr><th>15</th><td>-0.05291</td><td>188.0</td><td>-6.51673</td><td>0.00279947</td><td>5.23644</td></tr><tr><th>16</th><td>-0.00580232</td><td>188.74</td><td>-6.50162</td><td>3.36669e-5</td><td>5.24037</td></tr><tr><th>17</th><td>-0.0389431</td><td>189.13</td><td>-6.49368</td><td>0.00151657</td><td>5.24243</td></tr><tr><th>18</th><td>-0.102591</td><td>192.8</td><td>-6.41976</td><td>0.0105249</td><td>5.26165</td></tr><tr><th>19</th><td>0.0556391</td><td>204.27</td><td>-6.19748</td><td>0.00309571</td><td>5.31944</td></tr><tr><th>20</th><td>0.0387556</td><td>208.78</td><td>-6.11349</td><td>0.001502</td><td>5.34128</td></tr><tr><th>21</th><td>-0.0167851</td><td>216.62</td><td>-5.9717</td><td>0.000281739</td><td>5.37814</td></tr><tr><th>22</th><td>-0.0224755</td><td>217.8</td><td>-5.9508</td><td>0.000505148</td><td>5.38358</td></tr><tr><th>23</th><td>-0.0561032</td><td>222.11</td><td>-5.87543</td><td>0.00314757</td><td>5.40317</td></tr><tr><th>24</th><td>-0.0738216</td><td>222.31</td><td>-5.87197</td><td>0.00544963</td><td>5.40407</td></tr><tr><th>25</th><td>0.201909</td><td>231.13</td><td>-5.72232</td><td>0.0407672</td><td>5.44298</td></tr><tr><th>26</th><td>-0.0136547</td><td>231.19</td><td>-5.72132</td><td>0.000186451</td><td>5.44324</td></tr><tr><th>27</th><td>0.162125</td><td>234.25</td><td>-5.67074</td><td>0.0262847</td><td>5.45639</td></tr><tr><th>28</th><td>-0.118259</td><td>241.95</td><td>-5.54634</td><td>0.0139851</td><td>5.48873</td></tr><tr><th>29</th><td>-0.0471453</td><td>242.16</td><td>-5.54301</td><td>0.00222268</td><td>5.4896</td></tr><tr><th>30</th><td>0.0783158</td><td>254.95</td><td>-5.34504</td><td>0.00613337</td><td>5.54107</td></tr></tbody></table>"
      ],
      "text/latex": [
       "\\begin{tabular}{r|ccccc}\n",
       "\t& resid & Y & l\\_sigma2 & resid2 & l\\_Y\\\\\n",
       "\t\\hline\n",
       "\t& Float64 & Float64 & Float64 & Float64 & Float64\\\\\n",
       "\t\\hline\n",
       "\t1 & 0.0591241 & 100.0 & -8.94482 & 0.00349566 & 4.60517 \\\\\n",
       "\t2 & -0.000817598 & 107.78 & -8.65664 & 6.68466e-7 & 4.68009 \\\\\n",
       "\t3 & 0.0369351 & 111.13 & -8.53891 & 0.0013642 & 4.7107 \\\\\n",
       "\t4 & -0.0659103 & 116.96 & -8.34224 & 0.00434417 & 4.76183 \\\\\n",
       "\t5 & 0.0419813 & 118.53 & -8.29096 & 0.00176243 & 4.77517 \\\\\n",
       "\t6 & -0.00297911 & 127.16 & -8.02064 & 8.87511e-6 & 4.84545 \\\\\n",
       "\t7 & 0.00448554 & 133.31 & -7.83897 & 2.012e-5 & 4.89268 \\\\\n",
       "\t8 & -0.0144879 & 134.74 & -7.79793 & 0.0002099 & 4.90335 \\\\\n",
       "\t9 & 0.0280834 & 153.68 & -7.29204 & 0.000788677 & 5.03487 \\\\\n",
       "\t10 & -0.0284622 & 155.44 & -7.24824 & 0.000810095 & 5.04626 \\\\\n",
       "\t11 & -0.0535877 & 161.32 & -7.10542 & 0.00287164 & 5.08339 \\\\\n",
       "\t12 & -0.0462568 & 164.44 & -7.03174 & 0.00213969 & 5.10255 \\\\\n",
       "\t13 & 0.0877548 & 166.93 & -6.97394 & 0.00770091 & 5.11757 \\\\\n",
       "\t14 & -0.0341167 & 181.73 & -6.6472 & 0.00116395 & 5.20252 \\\\\n",
       "\t15 & -0.05291 & 188.0 & -6.51673 & 0.00279947 & 5.23644 \\\\\n",
       "\t16 & -0.00580232 & 188.74 & -6.50162 & 3.36669e-5 & 5.24037 \\\\\n",
       "\t17 & -0.0389431 & 189.13 & -6.49368 & 0.00151657 & 5.24243 \\\\\n",
       "\t18 & -0.102591 & 192.8 & -6.41976 & 0.0105249 & 5.26165 \\\\\n",
       "\t19 & 0.0556391 & 204.27 & -6.19748 & 0.00309571 & 5.31944 \\\\\n",
       "\t20 & 0.0387556 & 208.78 & -6.11349 & 0.001502 & 5.34128 \\\\\n",
       "\t21 & -0.0167851 & 216.62 & -5.9717 & 0.000281739 & 5.37814 \\\\\n",
       "\t22 & -0.0224755 & 217.8 & -5.9508 & 0.000505148 & 5.38358 \\\\\n",
       "\t23 & -0.0561032 & 222.11 & -5.87543 & 0.00314757 & 5.40317 \\\\\n",
       "\t24 & -0.0738216 & 222.31 & -5.87197 & 0.00544963 & 5.40407 \\\\\n",
       "\t25 & 0.201909 & 231.13 & -5.72232 & 0.0407672 & 5.44298 \\\\\n",
       "\t26 & -0.0136547 & 231.19 & -5.72132 & 0.000186451 & 5.44324 \\\\\n",
       "\t27 & 0.162125 & 234.25 & -5.67074 & 0.0262847 & 5.45639 \\\\\n",
       "\t28 & -0.118259 & 241.95 & -5.54634 & 0.0139851 & 5.48873 \\\\\n",
       "\t29 & -0.0471453 & 242.16 & -5.54301 & 0.00222268 & 5.4896 \\\\\n",
       "\t30 & 0.0783158 & 254.95 & -5.34504 & 0.00613337 & 5.54107 \\\\\n",
       "\\end{tabular}\n"
      ],
      "text/plain": [
       "30×5 DataFrame\n",
       "│ Row │ resid        │ Y       │ l_sigma2 │ resid2      │ l_Y     │\n",
       "│     │ \u001b[90mFloat64\u001b[39m      │ \u001b[90mFloat64\u001b[39m │ \u001b[90mFloat64\u001b[39m  │ \u001b[90mFloat64\u001b[39m     │ \u001b[90mFloat64\u001b[39m │\n",
       "├─────┼──────────────┼─────────┼──────────┼─────────────┼─────────┤\n",
       "│ 1   │ 0.0591241    │ 100.0   │ -8.94482 │ 0.00349566  │ 4.60517 │\n",
       "│ 2   │ -0.000817598 │ 107.78  │ -8.65664 │ 6.68466e-7  │ 4.68009 │\n",
       "│ 3   │ 0.0369351    │ 111.13  │ -8.53891 │ 0.0013642   │ 4.7107  │\n",
       "│ 4   │ -0.0659103   │ 116.96  │ -8.34224 │ 0.00434417  │ 4.76183 │\n",
       "│ 5   │ 0.0419813    │ 118.53  │ -8.29096 │ 0.00176243  │ 4.77517 │\n",
       "│ 6   │ -0.00297911  │ 127.16  │ -8.02064 │ 8.87511e-6  │ 4.84545 │\n",
       "│ 7   │ 0.00448554   │ 133.31  │ -7.83897 │ 2.012e-5    │ 4.89268 │\n",
       "│ 8   │ -0.0144879   │ 134.74  │ -7.79793 │ 0.0002099   │ 4.90335 │\n",
       "│ 9   │ 0.0280834    │ 153.68  │ -7.29204 │ 0.000788677 │ 5.03487 │\n",
       "│ 10  │ -0.0284622   │ 155.44  │ -7.24824 │ 0.000810095 │ 5.04626 │\n",
       "⋮\n",
       "│ 20  │ 0.0387556    │ 208.78  │ -6.11349 │ 0.001502    │ 5.34128 │\n",
       "│ 21  │ -0.0167851   │ 216.62  │ -5.9717  │ 0.000281739 │ 5.37814 │\n",
       "│ 22  │ -0.0224755   │ 217.8   │ -5.9508  │ 0.000505148 │ 5.38358 │\n",
       "│ 23  │ -0.0561032   │ 222.11  │ -5.87543 │ 0.00314757  │ 5.40317 │\n",
       "│ 24  │ -0.0738216   │ 222.31  │ -5.87197 │ 0.00544963  │ 5.40407 │\n",
       "│ 25  │ 0.201909     │ 231.13  │ -5.72232 │ 0.0407672   │ 5.44298 │\n",
       "│ 26  │ -0.0136547   │ 231.19  │ -5.72132 │ 0.000186451 │ 5.44324 │\n",
       "│ 27  │ 0.162125     │ 234.25  │ -5.67074 │ 0.0262847   │ 5.45639 │\n",
       "│ 28  │ -0.118259    │ 241.95  │ -5.54634 │ 0.0139851   │ 5.48873 │\n",
       "│ 29  │ -0.0471453   │ 242.16  │ -5.54301 │ 0.00222268  │ 5.4896  │\n",
       "│ 30  │ 0.0783158    │ 254.95  │ -5.34504 │ 0.00613337  │ 5.54107 │"
      ]
     },
     "execution_count": 109,
     "metadata": {},
     "output_type": "execute_result"
    }
   ],
   "source": [
    "data = data |> @mutate(resid2 = (_.resid)^2 , l_Y = log(_.Y)) |> DataFrame"
   ]
  },
  {
   "cell_type": "code",
   "execution_count": 106,
   "id": "33b0aa77-dbd2-406b-bb0a-909fe6dfe939",
   "metadata": {},
   "outputs": [],
   "source": [
    "using VegaLite;"
   ]
  },
  {
   "cell_type": "code",
   "execution_count": 112,
   "id": "828b795e-49ad-4c60-a502-6b060cced282",
   "metadata": {},
   "outputs": [
    {
     "data": {
      "application/vnd.vegalite.v4+json": {
       "data": {
        "values": [
         {
          "Y": 100,
          "l_Y": 4.605170185988092,
          "l_sigma2": -8.94481836222532,
          "resid": 0.05912411898114378,
          "resid2": 0.003495661445296446
         },
         {
          "Y": 107.779998779297,
          "l_Y": 4.680092101179474,
          "l_sigma2": -8.656643217882213,
          "resid": -0.0008175975266127011,
          "resid2": 6.684657155232065e-07
         },
         {
          "Y": 111.129997253418,
          "l_Y": 4.710700662482519,
          "l_sigma2": -8.538912290301031,
          "resid": 0.036935136714103756,
          "resid2": 0.001364204324089535
         },
         {
          "Y": 116.959999084473,
          "l_Y": 4.761831988173775,
          "l_sigma2": -8.342243837233681,
          "resid": -0.06591029527972747,
          "resid2": 0.004344167023860865
         },
         {
          "Y": 118.529998779297,
          "l_Y": 4.775166082792725,
          "l_sigma2": -8.290956378394899,
          "resid": 0.0419812704695266,
          "resid2": 0.0017624270702355461
         },
         {
          "Y": 127.160003662109,
          "l_Y": 4.845446164841823,
          "l_sigma2": -8.020635301615034,
          "resid": -0.002979112197225575,
          "resid2": 8.875109483658195e-06
         },
         {
          "Y": 133.309997558594,
          "l_Y": 4.892677224811836,
          "l_sigma2": -7.838968595824493,
          "resid": 0.00448553521895434,
          "resid2": 2.0120026200479754e-05
         },
         {
          "Y": 134.740005493164,
          "l_Y": 4.903347036301134,
          "l_sigma2": -7.797928875227548,
          "resid": -0.014487919269589256,
          "resid2": 0.00020989980476213567
         },
         {
          "Y": 153.679992675781,
          "l_Y": 5.034872470801405,
          "l_sigma2": -7.2920373617086085,
          "resid": 0.02808339410341798,
          "resid2": 0.0007886770243678918
         },
         {
          "Y": 155.440002441406,
          "l_Y": 5.046259820775605,
          "l_sigma2": -7.248237744278676,
          "resid": -0.0284621745652176,
          "resid2": 0.0008100953809809198
         },
         {
          "Y": 161.320007324219,
          "l_Y": 5.08339001540697,
          "l_sigma2": -7.105422398861393,
          "resid": -0.053587722822471484,
          "resid2": 0.002871644037298031
         },
         {
          "Y": 164.440002441406,
          "l_Y": 5.102545776876466,
          "l_sigma2": -7.03174283110911,
          "resid": -0.04625676727132255,
          "resid2": 0.0021396885183932973
         },
         {
          "Y": 166.929992675781,
          "l_Y": 5.117574518991305,
          "l_sigma2": -6.973937182158785,
          "resid": 0.08775480999629082,
          "resid2": 0.007700906677485102
         },
         {
          "Y": 181.729995727539,
          "l_Y": 5.2025220455832315,
          "l_sigma2": -6.647200129659701,
          "resid": -0.034116654940546276,
          "resid2": 0.0011639461443323006
         },
         {
          "Y": 188,
          "l_Y": 5.236441962829949,
          "l_sigma2": -6.516732601918182,
          "resid": -0.052910020084924625,
          "resid2": 0.002799470225387127
         },
         {
          "Y": 188.740005493164,
          "l_Y": 5.240370435697584,
          "l_sigma2": -6.501622360371542,
          "resid": -0.0058023181212822905,
          "resid2": 3.366689558056085e-05
         },
         {
          "Y": 189.130004882812,
          "l_Y": 5.242434635117589,
          "l_sigma2": -6.493682747985858,
          "resid": -0.03894312620827556,
          "resid2": 0.0015165670788736786
         },
         {
          "Y": 192.800003051758,
          "l_Y": 5.261653398005065,
          "l_sigma2": -6.419760855372097,
          "resid": -0.10259115536701824,
          "resid2": 0.010524945159539676
         },
         {
          "Y": 204.270004272461,
          "l_Y": 5.319442669078739,
          "l_sigma2": -6.197483681989663,
          "resid": 0.05563910088424784,
          "resid2": 0.0030957095472075088
         },
         {
          "Y": 208.779998779297,
          "l_Y": 5.341281060133314,
          "l_sigma2": -6.1134858092938344,
          "resid": 0.0387555892479341,
          "resid2": 0.001501995697954585
         },
         {
          "Y": 216.619995117188,
          "l_Y": 5.378144643866681,
          "l_sigma2": -5.971695939984816,
          "resid": -0.016785072615013163,
          "resid2": 0.00028173866269126484
         },
         {
          "Y": 217.800003051758,
          "l_Y": 5.383577224510605,
          "l_sigma2": -5.950800388833738,
          "resid": -0.022475488340812255,
          "resid2": 0.0005051475761579876
         },
         {
          "Y": 222.110000610352,
          "l_Y": 5.403172757398389,
          "l_sigma2": -5.875429310772095,
          "resid": -0.05610322139894208,
          "resid2": 0.003147571451338713
         },
         {
          "Y": 222.309997558594,
          "l_Y": 5.4040727932319115,
          "l_sigma2": -5.871967467123586,
          "resid": -0.07382160637492774,
          "resid2": 0.005449629567774772
         },
         {
          "Y": 231.130004882812,
          "l_Y": 5.442980343914423,
          "l_sigma2": -5.7223158063868205,
          "resid": 0.20190877131414808,
          "resid2": 0.04076715193358895
         },
         {
          "Y": 231.190002441406,
          "l_Y": 5.443239893827817,
          "l_sigma2": -5.7213174892246705,
          "resid": -0.013654721693768579,
          "resid2": 0.00018645142453427424
         },
         {
          "Y": 234.25,
          "l_Y": 5.456388921118531,
          "l_sigma2": -5.6707418622162855,
          "resid": 0.16212542013583864,
          "resid2": 0.026284651854222192
         },
         {
          "Y": 241.949996948242,
          "l_Y": 5.488731080626152,
          "l_sigma2": -5.546342926862476,
          "resid": -0.11825870250511983,
          "resid2": 0.013985120718194435
         },
         {
          "Y": 242.160003662109,
          "l_Y": 5.4895986798361465,
          "l_sigma2": -5.543005845490043,
          "resid": -0.04714529613052143,
          "resid2": 0.002222678947234559
         },
         {
          "Y": 254.949996948242,
          "l_Y": 5.541067435531139,
          "l_sigma2": -5.34503952196938,
          "resid": 0.07831582564764794,
          "resid2": 0.006133368546872791
         }
        ]
       },
       "encoding": {
        "x": {
         "field": "l_Y",
         "type": "quantitative"
        },
        "y": {
         "field": "resid2",
         "type": "quantitative"
        }
       },
       "mark": "point"
      },
      "image/png": "[encoded data removed]",
      "image/svg+xml": [
       "<?xml version=\"1.0\" encoding=\"utf-8\"?>\n",
       "<!DOCTYPE svg PUBLIC \"-//W3C//DTD SVG 1.1//EN\" \"http://www.w3.org/Graphics/SVG/1.1/DTD/svg11.dtd\">\n",
       "<svg xmlns=\"http://www.w3.org/2000/svg\" xmlns:xlink=\"http://www.w3.org/1999/xlink\" version=\"1.1\" class=\"marks\" width=\"254\" height=\"242\" viewBox=\"0 0 254 242\"><rect width=\"254\" height=\"242\" fill=\"white\"/><g fill=\"none\" stroke-miterlimit=\"10\" transform=\"translate(48,5)\"><g class=\"mark-group role-frame root\" role=\"graphics-object\" aria-roledescription=\"group mark container\"><g transform=\"translate(0,0)\"><path class=\"background\" aria-hidden=\"true\" d=\"M0.5,0.5h200v200h-200Z\" stroke=\"#ddd\"/><g><g class=\"mark-group role-axis\" aria-hidden=\"true\"><g transform=\"translate(0.5,200.5)\"><path class=\"background\" aria-hidden=\"true\" d=\"M0,0h0v0h0Z\" pointer-events=\"none\"/><g><g class=\"mark-rule role-axis-grid\" pointer-events=\"none\"><line transform=\"translate(0,-200)\" x2=\"0\" y2=\"200\" stroke=\"#ddd\" stroke-width=\"1\" opacity=\"1\"/><line transform=\"translate(33,-200)\" x2=\"0\" y2=\"200\" stroke=\"#ddd\" stroke-width=\"1\" opacity=\"1\"/><line transform=\"translate(67,-200)\" x2=\"0\" y2=\"200\" stroke=\"#ddd\" stroke-width=\"1\" opacity=\"1\"/><line transform=\"translate(100,-200)\" x2=\"0\" y2=\"200\" stroke=\"#ddd\" stroke-width=\"1\" opacity=\"1\"/><line transform=\"translate(133,-200)\" x2=\"0\" y2=\"200\" stroke=\"#ddd\" stroke-width=\"1\" opacity=\"1\"/><line transform=\"translate(167,-200)\" x2=\"0\" y2=\"200\" stroke=\"#ddd\" stroke-width=\"1\" opacity=\"1\"/><line transform=\"translate(200,-200)\" x2=\"0\" y2=\"200\" stroke=\"#ddd\" stroke-width=\"1\" opacity=\"1\"/></g></g><path class=\"foreground\" aria-hidden=\"true\" d=\"\" pointer-events=\"none\" display=\"none\"/></g></g><g class=\"mark-group role-axis\" aria-hidden=\"true\"><g transform=\"translate(0.5,0.5)\"><path class=\"background\" aria-hidden=\"true\" d=\"M0,0h0v0h0Z\" pointer-events=\"none\"/><g><g class=\"mark-rule role-axis-grid\" pointer-events=\"none\"><line transform=\"translate(0,200)\" x2=\"200\" y2=\"0\" stroke=\"#ddd\" stroke-width=\"1\" opacity=\"1\"/><line transform=\"translate(0,156)\" x2=\"200\" y2=\"0\" stroke=\"#ddd\" stroke-width=\"1\" opacity=\"1\"/><line transform=\"translate(0,111)\" x2=\"200\" y2=\"0\" stroke=\"#ddd\" stroke-width=\"1\" opacity=\"1\"/><line transform=\"translate(0,67)\" x2=\"200\" y2=\"0\" stroke=\"#ddd\" stroke-width=\"1\" opacity=\"1\"/><line transform=\"translate(0,22)\" x2=\"200\" y2=\"0\" stroke=\"#ddd\" stroke-width=\"1\" opacity=\"1\"/></g></g><path class=\"foreground\" aria-hidden=\"true\" d=\"\" pointer-events=\"none\" display=\"none\"/></g></g><g class=\"mark-group role-axis\" role=\"graphics-symbol\" aria-roledescription=\"axis\" aria-label=\"X-axis titled 'l_Y' for a linear scale with values from 0 to 6\"><g transform=\"translate(0.5,200.5)\"><path class=\"background\" aria-hidden=\"true\" d=\"M0,0h0v0h0Z\" pointer-events=\"none\"/><g><g class=\"mark-rule role-axis-tick\" pointer-events=\"none\"><line transform=\"translate(0,0)\" x2=\"0\" y2=\"5\" stroke=\"#888\" stroke-width=\"1\" opacity=\"1\"/><line transform=\"translate(33,0)\" x2=\"0\" y2=\"5\" stroke=\"#888\" stroke-width=\"1\" opacity=\"1\"/><line transform=\"translate(67,0)\" x2=\"0\" y2=\"5\" stroke=\"#888\" stroke-width=\"1\" opacity=\"1\"/><line transform=\"translate(100,0)\" x2=\"0\" y2=\"5\" stroke=\"#888\" stroke-width=\"1\" opacity=\"1\"/><line transform=\"translate(133,0)\" x2=\"0\" y2=\"5\" stroke=\"#888\" stroke-width=\"1\" opacity=\"1\"/><line transform=\"translate(167,0)\" x2=\"0\" y2=\"5\" stroke=\"#888\" stroke-width=\"1\" opacity=\"1\"/><line transform=\"translate(200,0)\" x2=\"0\" y2=\"5\" stroke=\"#888\" stroke-width=\"1\" opacity=\"1\"/></g><g class=\"mark-text role-axis-label\" pointer-events=\"none\"><text text-anchor=\"start\" transform=\"translate(0,15)\" font-family=\"sans-serif\" font-size=\"10px\" fill=\"#000\" opacity=\"1\">0</text><text text-anchor=\"middle\" transform=\"translate(33.33333333333333,15)\" font-family=\"sans-serif\" font-size=\"10px\" fill=\"#000\" opacity=\"1\">1</text><text text-anchor=\"middle\" transform=\"translate(66.66666666666666,15)\" font-family=\"sans-serif\" font-size=\"10px\" fill=\"#000\" opacity=\"1\">2</text><text text-anchor=\"middle\" transform=\"translate(100,15)\" font-family=\"sans-serif\" font-size=\"10px\" fill=\"#000\" opacity=\"1\">3</text><text text-anchor=\"middle\" transform=\"translate(133.33333333333331,15)\" font-family=\"sans-serif\" font-size=\"10px\" fill=\"#000\" opacity=\"1\">4</text><text text-anchor=\"middle\" transform=\"translate(166.66666666666669,15)\" font-family=\"sans-serif\" font-size=\"10px\" fill=\"#000\" opacity=\"1\">5</text><text text-anchor=\"end\" transform=\"translate(200,15)\" font-family=\"sans-serif\" font-size=\"10px\" fill=\"#000\" opacity=\"1\">6</text></g><g class=\"mark-rule role-axis-domain\" pointer-events=\"none\"><line transform=\"translate(0,0)\" x2=\"200\" y2=\"0\" stroke=\"#888\" stroke-width=\"1\" opacity=\"1\"/></g><g class=\"mark-text role-axis-title\" pointer-events=\"none\"><text text-anchor=\"middle\" transform=\"translate(100,30)\" font-family=\"sans-serif\" font-size=\"11px\" font-weight=\"bold\" fill=\"#000\" opacity=\"1\">l_Y</text></g></g><path class=\"foreground\" aria-hidden=\"true\" d=\"\" pointer-events=\"none\" display=\"none\"/></g></g><g class=\"mark-group role-axis\" role=\"graphics-symbol\" aria-roledescription=\"axis\" aria-label=\"Y-axis titled 'resid2' for a linear scale with values from 0.00 to 0.04\"><g transform=\"translate(0.5,0.5)\"><path class=\"background\" aria-hidden=\"true\" d=\"M0,0h0v0h0Z\" pointer-events=\"none\"/><g><g class=\"mark-rule role-axis-tick\" pointer-events=\"none\"><line transform=\"translate(0,200)\" x2=\"-5\" y2=\"0\" stroke=\"#888\" stroke-width=\"1\" opacity=\"1\"/><line transform=\"translate(0,156)\" x2=\"-5\" y2=\"0\" stroke=\"#888\" stroke-width=\"1\" opacity=\"1\"/><line transform=\"translate(0,111)\" x2=\"-5\" y2=\"0\" stroke=\"#888\" stroke-width=\"1\" opacity=\"1\"/><line transform=\"translate(0,67)\" x2=\"-5\" y2=\"0\" stroke=\"#888\" stroke-width=\"1\" opacity=\"1\"/><line transform=\"translate(0,22)\" x2=\"-5\" y2=\"0\" stroke=\"#888\" stroke-width=\"1\" opacity=\"1\"/></g><g class=\"mark-text role-axis-label\" pointer-events=\"none\"><text text-anchor=\"end\" transform=\"translate(-7,203)\" font-family=\"sans-serif\" font-size=\"10px\" fill=\"#000\" opacity=\"1\">0.00</text><text text-anchor=\"end\" transform=\"translate(-7,158.55555555555557)\" font-family=\"sans-serif\" font-size=\"10px\" fill=\"#000\" opacity=\"1\">0.01</text><text text-anchor=\"end\" transform=\"translate(-7,114.11111111111111)\" font-family=\"sans-serif\" font-size=\"10px\" fill=\"#000\" opacity=\"1\">0.02</text><text text-anchor=\"end\" transform=\"translate(-7,69.66666666666667)\" font-family=\"sans-serif\" font-size=\"10px\" fill=\"#000\" opacity=\"1\">0.03</text><text text-anchor=\"end\" transform=\"translate(-7,25.22222222222221)\" font-family=\"sans-serif\" font-size=\"10px\" fill=\"#000\" opacity=\"1\">0.04</text></g><g class=\"mark-rule role-axis-domain\" pointer-events=\"none\"><line transform=\"translate(0,200)\" x2=\"0\" y2=\"-200\" stroke=\"#888\" stroke-width=\"1\" opacity=\"1\"/></g><g class=\"mark-text role-axis-title\" pointer-events=\"none\"><text text-anchor=\"middle\" transform=\"translate(-32,100) rotate(-90) translate(0,-2)\" font-family=\"sans-serif\" font-size=\"11px\" font-weight=\"bold\" fill=\"#000\" opacity=\"1\">resid2</text></g></g><path class=\"foreground\" aria-hidden=\"true\" d=\"\" pointer-events=\"none\" display=\"none\"/></g></g><g class=\"mark-symbol role-mark marks\" role=\"graphics-object\" aria-roledescription=\"symbol mark container\"><path aria-label=\"l_Y: 4.60517018599; resid2: 0.0034956614453\" role=\"graphics-symbol\" aria-roledescription=\"point\" transform=\"translate(153.50567286626972,184.4637269097936)\" d=\"M2.7386127875258306,0A2.7386127875258306,2.7386127875258306,0,1,1,-2.7386127875258306,0A2.7386127875258306,2.7386127875258306,0,1,1,2.7386127875258306,0\" stroke=\"#4c78a8\" stroke-width=\"2\" opacity=\"0.7\"/><path aria-label=\"l_Y: 4.68009210118; resid2: 6.68465715523e-7\" role=\"graphics-symbol\" aria-roledescription=\"point\" transform=\"translate(156.0030700393158,199.99702904126434)\" d=\"M2.7386127875258306,0A2.7386127875258306,2.7386127875258306,0,1,1,-2.7386127875258306,0A2.7386127875258306,2.7386127875258306,0,1,1,2.7386127875258306,0\" stroke=\"#4c78a8\" stroke-width=\"2\" opacity=\"0.7\"/><path aria-label=\"l_Y: 4.71070066248; resid2: 0.00136420432409\" role=\"graphics-symbol\" aria-roledescription=\"point\" transform=\"translate(157.02335541608397,193.93686967071318)\" d=\"M2.7386127875258306,0A2.7386127875258306,2.7386127875258306,0,1,1,-2.7386127875258306,0A2.7386127875258306,2.7386127875258306,0,1,1,2.7386127875258306,0\" stroke=\"#4c78a8\" stroke-width=\"2\" opacity=\"0.7\"/><path aria-label=\"l_Y: 4.76183198817; resid2: 0.00434416702386\" role=\"graphics-symbol\" aria-roledescription=\"point\" transform=\"translate(158.72773293912584,180.69259100506284)\" d=\"M2.7386127875258306,0A2.7386127875258306,2.7386127875258306,0,1,1,-2.7386127875258306,0A2.7386127875258306,2.7386127875258306,0,1,1,2.7386127875258306,0\" stroke=\"#4c78a8\" stroke-width=\"2\" opacity=\"0.7\"/><path aria-label=\"l_Y: 4.77516608279; resid2: 0.00176242707024\" role=\"graphics-symbol\" aria-roledescription=\"point\" transform=\"translate(159.1722027597575,192.16699079895312)\" d=\"M2.7386127875258306,0A2.7386127875258306,2.7386127875258306,0,1,1,-2.7386127875258306,0A2.7386127875258306,2.7386127875258306,0,1,1,2.7386127875258306,0\" stroke=\"#4c78a8\" stroke-width=\"2\" opacity=\"0.7\"/><path aria-label=\"l_Y: 4.84544616484; resid2: 0.00000887510948366\" role=\"graphics-symbol\" aria-roledescription=\"point\" transform=\"translate(161.5148721613941,199.9605550689615)\" d=\"M2.7386127875258306,0A2.7386127875258306,2.7386127875258306,0,1,1,-2.7386127875258306,0A2.7386127875258306,2.7386127875258306,0,1,1,2.7386127875258306,0\" stroke=\"#4c78a8\" stroke-width=\"2\" opacity=\"0.7\"/><path aria-label=\"l_Y: 4.89267722481; resid2: 0.0000201200262005\" role=\"graphics-symbol\" aria-roledescription=\"point\" transform=\"translate(163.0892408270612,199.9105776613312)\" d=\"M2.7386127875258306,0A2.7386127875258306,2.7386127875258306,0,1,1,-2.7386127875258306,0A2.7386127875258306,2.7386127875258306,0,1,1,2.7386127875258306,0\" stroke=\"#4c78a8\" stroke-width=\"2\" opacity=\"0.7\"/><path aria-label=\"l_Y: 4.9033470363; resid2: 0.000209899804762\" role=\"graphics-symbol\" aria-roledescription=\"point\" transform=\"translate(163.44490121003778,199.06711197883496)\" d=\"M2.7386127875258306,0A2.7386127875258306,2.7386127875258306,0,1,1,-2.7386127875258306,0A2.7386127875258306,2.7386127875258306,0,1,1,2.7386127875258306,0\" stroke=\"#4c78a8\" stroke-width=\"2\" opacity=\"0.7\"/><path aria-label=\"l_Y: 5.0348724708; resid2: 0.000788677024368\" role=\"graphics-symbol\" aria-roledescription=\"point\" transform=\"translate(167.82908236004684,196.49476878058715)\" d=\"M2.7386127875258306,0A2.7386127875258306,2.7386127875258306,0,1,1,-2.7386127875258306,0A2.7386127875258306,2.7386127875258306,0,1,1,2.7386127875258306,0\" stroke=\"#4c78a8\" stroke-width=\"2\" opacity=\"0.7\"/><path aria-label=\"l_Y: 5.04625982078; resid2: 0.000810095380981\" role=\"graphics-symbol\" aria-roledescription=\"point\" transform=\"translate(168.20866069252017,196.39957608452926)\" d=\"M2.7386127875258306,0A2.7386127875258306,2.7386127875258306,0,1,1,-2.7386127875258306,0A2.7386127875258306,2.7386127875258306,0,1,1,2.7386127875258306,0\" stroke=\"#4c78a8\" stroke-width=\"2\" opacity=\"0.7\"/><path aria-label=\"l_Y: 5.08339001541; resid2: 0.0028716440373\" role=\"graphics-symbol\" aria-roledescription=\"point\" transform=\"translate(169.44633384689902,187.23713761200875)\" d=\"M2.7386127875258306,0A2.7386127875258306,2.7386127875258306,0,1,1,-2.7386127875258306,0A2.7386127875258306,2.7386127875258306,0,1,1,2.7386127875258306,0\" stroke=\"#4c78a8\" stroke-width=\"2\" opacity=\"0.7\"/><path aria-label=\"l_Y: 5.10254577688; resid2: 0.00213968851839\" role=\"graphics-symbol\" aria-roledescription=\"point\" transform=\"translate(170.08485922921554,190.49027325158534)\" d=\"M2.7386127875258306,0A2.7386127875258306,2.7386127875258306,0,1,1,-2.7386127875258306,0A2.7386127875258306,2.7386127875258306,0,1,1,2.7386127875258306,0\" stroke=\"#4c78a8\" stroke-width=\"2\" opacity=\"0.7\"/><path aria-label=\"l_Y: 5.11757451899; resid2: 0.00770090667749\" role=\"graphics-symbol\" aria-roledescription=\"point\" transform=\"translate(170.5858172997102,165.7737481000662)\" d=\"M2.7386127875258306,0A2.7386127875258306,2.7386127875258306,0,1,1,-2.7386127875258306,0A2.7386127875258306,2.7386127875258306,0,1,1,2.7386127875258306,0\" stroke=\"#4c78a8\" stroke-width=\"2\" opacity=\"0.7\"/><path aria-label=\"l_Y: 5.20252204558; resid2: 0.00116394614433\" role=\"graphics-symbol\" aria-roledescription=\"point\" transform=\"translate(173.41740151944106,194.82690602518977)\" d=\"M2.7386127875258306,0A2.7386127875258306,2.7386127875258306,0,1,1,-2.7386127875258306,0A2.7386127875258306,2.7386127875258306,0,1,1,2.7386127875258306,0\" stroke=\"#4c78a8\" stroke-width=\"2\" opacity=\"0.7\"/><path aria-label=\"l_Y: 5.23644196283; resid2: 0.00279947022539\" role=\"graphics-symbol\" aria-roledescription=\"point\" transform=\"translate(174.54806542766497,187.55791010939055)\" d=\"M2.7386127875258306,0A2.7386127875258306,2.7386127875258306,0,1,1,-2.7386127875258306,0A2.7386127875258306,2.7386127875258306,0,1,1,2.7386127875258306,0\" stroke=\"#4c78a8\" stroke-width=\"2\" opacity=\"0.7\"/><path aria-label=\"l_Y: 5.2403704357; resid2: 0.0000336668955806\" role=\"graphics-symbol\" aria-roledescription=\"point\" transform=\"translate(174.67901452325282,199.8503693529753)\" d=\"M2.7386127875258306,0A2.7386127875258306,2.7386127875258306,0,1,1,-2.7386127875258306,0A2.7386127875258306,2.7386127875258306,0,1,1,2.7386127875258306,0\" stroke=\"#4c78a8\" stroke-width=\"2\" opacity=\"0.7\"/><path aria-label=\"l_Y: 5.24243463512; resid2: 0.00151656707887\" role=\"graphics-symbol\" aria-roledescription=\"point\" transform=\"translate(174.7478211705863,193.25970187167255)\" d=\"M2.7386127875258306,0A2.7386127875258306,2.7386127875258306,0,1,1,-2.7386127875258306,0A2.7386127875258306,2.7386127875258306,0,1,1,2.7386127875258306,0\" stroke=\"#4c78a8\" stroke-width=\"2\" opacity=\"0.7\"/><path aria-label=\"l_Y: 5.26165339801; resid2: 0.0105249451595\" role=\"graphics-symbol\" aria-roledescription=\"point\" transform=\"translate(175.38844660016883,153.22246595760146)\" d=\"M2.7386127875258306,0A2.7386127875258306,2.7386127875258306,0,1,1,-2.7386127875258306,0A2.7386127875258306,2.7386127875258306,0,1,1,2.7386127875258306,0\" stroke=\"#4c78a8\" stroke-width=\"2\" opacity=\"0.7\"/><path aria-label=\"l_Y: 5.31944266908; resid2: 0.00309570954721\" role=\"graphics-symbol\" aria-roledescription=\"point\" transform=\"translate(177.31475563595797,186.24129090129995)\" d=\"M2.7386127875258306,0A2.7386127875258306,2.7386127875258306,0,1,1,-2.7386127875258306,0A2.7386127875258306,2.7386127875258306,0,1,1,2.7386127875258306,0\" stroke=\"#4c78a8\" stroke-width=\"2\" opacity=\"0.7\"/><path aria-label=\"l_Y: 5.34128106013; resid2: 0.00150199569795\" role=\"graphics-symbol\" aria-roledescription=\"point\" transform=\"translate(178.04270200444378,193.3244635646463)\" d=\"M2.7386127875258306,0A2.7386127875258306,2.7386127875258306,0,1,1,-2.7386127875258306,0A2.7386127875258306,2.7386127875258306,0,1,1,2.7386127875258306,0\" stroke=\"#4c78a8\" stroke-width=\"2\" opacity=\"0.7\"/><path aria-label=\"l_Y: 5.37814464387; resid2: 0.000281738662691\" role=\"graphics-symbol\" aria-roledescription=\"point\" transform=\"translate(179.27148812888936,198.7478281658166)\" d=\"M2.7386127875258306,0A2.7386127875258306,2.7386127875258306,0,1,1,-2.7386127875258306,0A2.7386127875258306,2.7386127875258306,0,1,1,2.7386127875258306,0\" stroke=\"#4c78a8\" stroke-width=\"2\" opacity=\"0.7\"/><path aria-label=\"l_Y: 5.38357722451; resid2: 0.000505147576158\" role=\"graphics-symbol\" aria-roledescription=\"point\" transform=\"translate(179.45257415035348,197.75489966152006)\" d=\"M2.7386127875258306,0A2.7386127875258306,2.7386127875258306,0,1,1,-2.7386127875258306,0A2.7386127875258306,2.7386127875258306,0,1,1,2.7386127875258306,0\" stroke=\"#4c78a8\" stroke-width=\"2\" opacity=\"0.7\"/><path aria-label=\"l_Y: 5.4031727574; resid2: 0.00314757145134\" role=\"graphics-symbol\" aria-roledescription=\"point\" transform=\"translate(180.1057585799463,186.01079354960572)\" d=\"M2.7386127875258306,0A2.7386127875258306,2.7386127875258306,0,1,1,-2.7386127875258306,0A2.7386127875258306,2.7386127875258306,0,1,1,2.7386127875258306,0\" stroke=\"#4c78a8\" stroke-width=\"2\" opacity=\"0.7\"/><path aria-label=\"l_Y: 5.40407279323; resid2: 0.00544962956777\" role=\"graphics-symbol\" aria-roledescription=\"point\" transform=\"translate(180.13575977439703,175.77942414322322)\" d=\"M2.7386127875258306,0A2.7386127875258306,2.7386127875258306,0,1,1,-2.7386127875258306,0A2.7386127875258306,2.7386127875258306,0,1,1,2.7386127875258306,0\" stroke=\"#4c78a8\" stroke-width=\"2\" opacity=\"0.7\"/><path aria-label=\"l_Y: 5.44298034391; resid2: 0.0407671519336\" role=\"graphics-symbol\" aria-roledescription=\"point\" transform=\"translate(181.43267813048075,18.812658072937992)\" d=\"M2.7386127875258306,0A2.7386127875258306,2.7386127875258306,0,1,1,-2.7386127875258306,0A2.7386127875258306,2.7386127875258306,0,1,1,2.7386127875258306,0\" stroke=\"#4c78a8\" stroke-width=\"2\" opacity=\"0.7\"/><path aria-label=\"l_Y: 5.44323989383; resid2: 0.000186451424534\" role=\"graphics-symbol\" aria-roledescription=\"point\" transform=\"translate(181.44132979426058,199.1713270020699)\" d=\"M2.7386127875258306,0A2.7386127875258306,2.7386127875258306,0,1,1,-2.7386127875258306,0A2.7386127875258306,2.7386127875258306,0,1,1,2.7386127875258306,0\" stroke=\"#4c78a8\" stroke-width=\"2\" opacity=\"0.7\"/><path aria-label=\"l_Y: 5.45638892112; resid2: 0.0262846518542\" role=\"graphics-symbol\" aria-roledescription=\"point\" transform=\"translate(181.87963070395102,83.1793250923458)\" d=\"M2.7386127875258306,0A2.7386127875258306,2.7386127875258306,0,1,1,-2.7386127875258306,0A2.7386127875258306,2.7386127875258306,0,1,1,2.7386127875258306,0\" stroke=\"#4c78a8\" stroke-width=\"2\" opacity=\"0.7\"/><path aria-label=\"l_Y: 5.48873108063; resid2: 0.0139851207182\" role=\"graphics-symbol\" aria-roledescription=\"point\" transform=\"translate(182.9577026875384,137.84390791913586)\" d=\"M2.7386127875258306,0A2.7386127875258306,2.7386127875258306,0,1,1,-2.7386127875258306,0A2.7386127875258306,2.7386127875258306,0,1,1,2.7386127875258306,0\" stroke=\"#4c78a8\" stroke-width=\"2\" opacity=\"0.7\"/><path aria-label=\"l_Y: 5.48959867984; resid2: 0.00222267894723\" role=\"graphics-symbol\" aria-roledescription=\"point\" transform=\"translate(182.98662266120488,190.12142690117975)\" d=\"M2.7386127875258306,0A2.7386127875258306,2.7386127875258306,0,1,1,-2.7386127875258306,0A2.7386127875258306,2.7386127875258306,0,1,1,2.7386127875258306,0\" stroke=\"#4c78a8\" stroke-width=\"2\" opacity=\"0.7\"/><path aria-label=\"l_Y: 5.54106743553; resid2: 0.00613336854687\" role=\"graphics-symbol\" aria-roledescription=\"point\" transform=\"translate(184.70224785103798,172.74058423612092)\" d=\"M2.7386127875258306,0A2.7386127875258306,2.7386127875258306,0,1,1,-2.7386127875258306,0A2.7386127875258306,2.7386127875258306,0,1,1,2.7386127875258306,0\" stroke=\"#4c78a8\" stroke-width=\"2\" opacity=\"0.7\"/></g></g><path class=\"foreground\" aria-hidden=\"true\" d=\"\" display=\"none\"/></g></g></g></svg>\n"
      ],
      "text/plain": [
       "@vlplot(\n",
       "    mark=\"point\",\n",
       "    encoding={\n",
       "        x={\n",
       "            field=\"l_Y\"\n",
       "        },\n",
       "        y={\n",
       "            field=\"resid2\"\n",
       "        }\n",
       "    },\n",
       "    data={\n",
       "        values=...\n",
       "    }\n",
       ")"
      ]
     },
     "execution_count": 112,
     "metadata": {},
     "output_type": "execute_result"
    }
   ],
   "source": [
    "data |> @vlplot(:point, x=:l_Y, y=:resid2)"
   ]
  },
  {
   "cell_type": "code",
   "execution_count": 113,
   "id": "5c6dec59-56b0-4cc2-84c7-9a0930e15213",
   "metadata": {},
   "outputs": [
    {
     "data": {
      "text/plain": [
       "Plots.GRBackend()"
      ]
     },
     "execution_count": 113,
     "metadata": {},
     "output_type": "execute_result"
    }
   ],
   "source": [
    "using Plots\n",
    "gr()"
   ]
  },
  {
   "cell_type": "code",
   "execution_count": 114,
   "id": "9000277b-6eff-446d-a6fc-59c6b3c4b933",
   "metadata": {},
   "outputs": [
    {
     "data": {
      "image/svg+xml": [
       "<?xml version=\"1.0\" encoding=\"utf-8\"?>\n",
       "<svg xmlns=\"http://www.w3.org/2000/svg\" xmlns:xlink=\"http://www.w3.org/1999/xlink\" width=\"600\" height=\"400\" viewBox=\"0 0 2400 1600\">\n",
       "<defs>\n",
       "  <clipPath id=\"clip800\">\n",
       "    <rect x=\"0\" y=\"0\" width=\"2400\" height=\"1600\"/>\n",
       "  </clipPath>\n",
       "</defs>\n",
       "<path clip-path=\"url(#clip800)\" d=\"\n",
       "M0 1600 L2400 1600 L2400 0 L0 0  Z\n",
       "  \" fill=\"#ffffff\" fill-rule=\"evenodd\" fill-opacity=\"1\"/>\n",
       "<defs>\n",
       "  <clipPath id=\"clip801\">\n",
       "    <rect x=\"480\" y=\"0\" width=\"1681\" height=\"1600\"/>\n",
       "  </clipPath>\n",
       "</defs>\n",
       "<path clip-path=\"url(#clip800)\" d=\"\n",
       "M250.028 1423.18 L2352.76 1423.18 L2352.76 123.472 L250.028 123.472  Z\n",
       "  \" fill=\"#ffffff\" fill-rule=\"evenodd\" fill-opacity=\"1\"/>\n",
       "<defs>\n",
       "  <clipPath id=\"clip802\">\n",
       "    <rect x=\"250\" y=\"123\" width=\"2104\" height=\"1301\"/>\n",
       "  </clipPath>\n",
       "</defs>\n",
       "<polyline clip-path=\"url(#clip802)\" style=\"stroke:#000000; stroke-linecap:butt; stroke-linejoin:round; stroke-width:2; stroke-opacity:0.1; fill:none\" points=\"\n",
       "  298.581,1423.18 298.581,123.472 \n",
       "  \"/>\n",
       "<polyline clip-path=\"url(#clip802)\" style=\"stroke:#000000; stroke-linecap:butt; stroke-linejoin:round; stroke-width:2; stroke-opacity:0.1; fill:none\" points=\"\n",
       "  722.496,1423.18 722.496,123.472 \n",
       "  \"/>\n",
       "<polyline clip-path=\"url(#clip802)\" style=\"stroke:#000000; stroke-linecap:butt; stroke-linejoin:round; stroke-width:2; stroke-opacity:0.1; fill:none\" points=\"\n",
       "  1146.41,1423.18 1146.41,123.472 \n",
       "  \"/>\n",
       "<polyline clip-path=\"url(#clip802)\" style=\"stroke:#000000; stroke-linecap:butt; stroke-linejoin:round; stroke-width:2; stroke-opacity:0.1; fill:none\" points=\"\n",
       "  1570.33,1423.18 1570.33,123.472 \n",
       "  \"/>\n",
       "<polyline clip-path=\"url(#clip802)\" style=\"stroke:#000000; stroke-linecap:butt; stroke-linejoin:round; stroke-width:2; stroke-opacity:0.1; fill:none\" points=\"\n",
       "  1994.24,1423.18 1994.24,123.472 \n",
       "  \"/>\n",
       "<polyline clip-path=\"url(#clip800)\" style=\"stroke:#000000; stroke-linecap:butt; stroke-linejoin:round; stroke-width:4; stroke-opacity:1; fill:none\" points=\"\n",
       "  250.028,1423.18 2352.76,1423.18 \n",
       "  \"/>\n",
       "<polyline clip-path=\"url(#clip800)\" style=\"stroke:#000000; stroke-linecap:butt; stroke-linejoin:round; stroke-width:4; stroke-opacity:1; fill:none\" points=\"\n",
       "  298.581,1423.18 298.581,1404.28 \n",
       "  \"/>\n",
       "<polyline clip-path=\"url(#clip800)\" style=\"stroke:#000000; stroke-linecap:butt; stroke-linejoin:round; stroke-width:4; stroke-opacity:1; fill:none\" points=\"\n",
       "  722.496,1423.18 722.496,1404.28 \n",
       "  \"/>\n",
       "<polyline clip-path=\"url(#clip800)\" style=\"stroke:#000000; stroke-linecap:butt; stroke-linejoin:round; stroke-width:4; stroke-opacity:1; fill:none\" points=\"\n",
       "  1146.41,1423.18 1146.41,1404.28 \n",
       "  \"/>\n",
       "<polyline clip-path=\"url(#clip800)\" style=\"stroke:#000000; stroke-linecap:butt; stroke-linejoin:round; stroke-width:4; stroke-opacity:1; fill:none\" points=\"\n",
       "  1570.33,1423.18 1570.33,1404.28 \n",
       "  \"/>\n",
       "<polyline clip-path=\"url(#clip800)\" style=\"stroke:#000000; stroke-linecap:butt; stroke-linejoin:round; stroke-width:4; stroke-opacity:1; fill:none\" points=\"\n",
       "  1994.24,1423.18 1994.24,1404.28 \n",
       "  \"/>\n",
       "<path clip-path=\"url(#clip800)\" d=\"M279.136 1455.09 L267.331 1473.54 L279.136 1473.54 L279.136 1455.09 M277.91 1451.02 L283.789 1451.02 L283.789 1473.54 L288.72 1473.54 L288.72 1477.43 L283.789 1477.43 L283.789 1485.58 L279.136 1485.58 L279.136 1477.43 L263.535 1477.43 L263.535 1472.92 L277.91 1451.02 Z\" fill=\"#000000\" fill-rule=\"evenodd\" fill-opacity=\"1\" /><path clip-path=\"url(#clip800)\" d=\"M296.451 1479.7 L301.335 1479.7 L301.335 1485.58 L296.451 1485.58 L296.451 1479.7 Z\" fill=\"#000000\" fill-rule=\"evenodd\" fill-opacity=\"1\" /><path clip-path=\"url(#clip800)\" d=\"M322.099 1466.44 Q318.951 1466.44 317.099 1468.59 Q315.27 1470.74 315.27 1474.49 Q315.27 1478.22 317.099 1480.39 Q318.951 1482.55 322.099 1482.55 Q325.247 1482.55 327.076 1480.39 Q328.928 1478.22 328.928 1474.49 Q328.928 1470.74 327.076 1468.59 Q325.247 1466.44 322.099 1466.44 M331.381 1451.78 L331.381 1456.04 Q329.622 1455.21 327.817 1454.77 Q326.034 1454.33 324.275 1454.33 Q319.645 1454.33 317.192 1457.45 Q314.761 1460.58 314.414 1466.9 Q315.78 1464.89 317.84 1463.82 Q319.9 1462.73 322.377 1462.73 Q327.585 1462.73 330.594 1465.9 Q333.627 1469.05 333.627 1474.49 Q333.627 1479.82 330.479 1483.03 Q327.331 1486.25 322.099 1486.25 Q316.104 1486.25 312.932 1481.67 Q309.761 1477.06 309.761 1468.33 Q309.761 1460.14 313.65 1455.28 Q317.539 1450.39 324.09 1450.39 Q325.849 1450.39 327.631 1450.74 Q329.437 1451.09 331.381 1451.78 Z\" fill=\"#000000\" fill-rule=\"evenodd\" fill-opacity=\"1\" /><path clip-path=\"url(#clip800)\" d=\"M703.179 1455.09 L691.373 1473.54 L703.179 1473.54 L703.179 1455.09 M701.952 1451.02 L707.832 1451.02 L707.832 1473.54 L712.762 1473.54 L712.762 1477.43 L707.832 1477.43 L707.832 1485.58 L703.179 1485.58 L703.179 1477.43 L687.577 1477.43 L687.577 1472.92 L701.952 1451.02 Z\" fill=\"#000000\" fill-rule=\"evenodd\" fill-opacity=\"1\" /><path clip-path=\"url(#clip800)\" d=\"M720.494 1479.7 L725.378 1479.7 L725.378 1485.58 L720.494 1485.58 L720.494 1479.7 Z\" fill=\"#000000\" fill-rule=\"evenodd\" fill-opacity=\"1\" /><path clip-path=\"url(#clip800)\" d=\"M745.563 1469.17 Q742.23 1469.17 740.308 1470.95 Q738.41 1472.73 738.41 1475.86 Q738.41 1478.98 740.308 1480.77 Q742.23 1482.55 745.563 1482.55 Q748.896 1482.55 750.818 1480.77 Q752.739 1478.96 752.739 1475.86 Q752.739 1472.73 750.818 1470.95 Q748.919 1469.17 745.563 1469.17 M740.887 1467.18 Q737.878 1466.44 736.188 1464.38 Q734.521 1462.32 734.521 1459.35 Q734.521 1455.21 737.461 1452.8 Q740.424 1450.39 745.563 1450.39 Q750.725 1450.39 753.665 1452.8 Q756.605 1455.21 756.605 1459.35 Q756.605 1462.32 754.915 1464.38 Q753.248 1466.44 750.262 1467.18 Q753.642 1467.96 755.517 1470.26 Q757.415 1472.55 757.415 1475.86 Q757.415 1480.88 754.336 1483.57 Q751.28 1486.25 745.563 1486.25 Q739.845 1486.25 736.767 1483.57 Q733.711 1480.88 733.711 1475.86 Q733.711 1472.55 735.609 1470.26 Q737.507 1467.96 740.887 1467.18 M739.174 1459.79 Q739.174 1462.48 740.841 1463.98 Q742.531 1465.49 745.563 1465.49 Q748.572 1465.49 750.262 1463.98 Q751.975 1462.48 751.975 1459.79 Q751.975 1457.11 750.262 1455.6 Q748.572 1454.1 745.563 1454.1 Q742.531 1454.1 740.841 1455.6 Q739.174 1457.11 739.174 1459.79 Z\" fill=\"#000000\" fill-rule=\"evenodd\" fill-opacity=\"1\" /><path clip-path=\"url(#clip800)\" d=\"M1113.58 1451.02 L1131.93 1451.02 L1131.93 1454.96 L1117.86 1454.96 L1117.86 1463.43 Q1118.88 1463.08 1119.9 1462.92 Q1120.91 1462.73 1121.93 1462.73 Q1127.72 1462.73 1131.1 1465.9 Q1134.48 1469.08 1134.48 1474.49 Q1134.48 1480.07 1131.01 1483.17 Q1127.53 1486.25 1121.21 1486.25 Q1119.04 1486.25 1116.77 1485.88 Q1114.52 1485.51 1112.12 1484.77 L1112.12 1480.07 Q1114.2 1481.2 1116.42 1481.76 Q1118.65 1482.32 1121.12 1482.32 Q1125.13 1482.32 1127.46 1480.21 Q1129.8 1478.1 1129.8 1474.49 Q1129.8 1470.88 1127.46 1468.77 Q1125.13 1466.67 1121.12 1466.67 Q1119.25 1466.67 1117.37 1467.08 Q1115.52 1467.5 1113.58 1468.38 L1113.58 1451.02 Z\" fill=\"#000000\" fill-rule=\"evenodd\" fill-opacity=\"1\" /><path clip-path=\"url(#clip800)\" d=\"M1143.69 1479.7 L1148.58 1479.7 L1148.58 1485.58 L1143.69 1485.58 L1143.69 1479.7 Z\" fill=\"#000000\" fill-rule=\"evenodd\" fill-opacity=\"1\" /><path clip-path=\"url(#clip800)\" d=\"M1168.76 1454.1 Q1165.15 1454.1 1163.32 1457.66 Q1161.52 1461.2 1161.52 1468.33 Q1161.52 1475.44 1163.32 1479.01 Q1165.15 1482.55 1168.76 1482.55 Q1172.39 1482.55 1174.2 1479.01 Q1176.03 1475.44 1176.03 1468.33 Q1176.03 1461.2 1174.2 1457.66 Q1172.39 1454.1 1168.76 1454.1 M1168.76 1450.39 Q1174.57 1450.39 1177.63 1455 Q1180.7 1459.58 1180.7 1468.33 Q1180.7 1477.06 1177.63 1481.67 Q1174.57 1486.25 1168.76 1486.25 Q1162.95 1486.25 1159.87 1481.67 Q1156.82 1477.06 1156.82 1468.33 Q1156.82 1459.58 1159.87 1455 Q1162.95 1450.39 1168.76 1450.39 Z\" fill=\"#000000\" fill-rule=\"evenodd\" fill-opacity=\"1\" /><path clip-path=\"url(#clip800)\" d=\"M1538.29 1451.02 L1556.65 1451.02 L1556.65 1454.96 L1542.57 1454.96 L1542.57 1463.43 Q1543.59 1463.08 1544.61 1462.92 Q1545.63 1462.73 1546.65 1462.73 Q1552.43 1462.73 1555.81 1465.9 Q1559.19 1469.08 1559.19 1474.49 Q1559.19 1480.07 1555.72 1483.17 Q1552.25 1486.25 1545.93 1486.25 Q1543.75 1486.25 1541.48 1485.88 Q1539.24 1485.51 1536.83 1484.77 L1536.83 1480.07 Q1538.91 1481.2 1541.14 1481.76 Q1543.36 1482.32 1545.84 1482.32 Q1549.84 1482.32 1552.18 1480.21 Q1554.52 1478.1 1554.52 1474.49 Q1554.52 1470.88 1552.18 1468.77 Q1549.84 1466.67 1545.84 1466.67 Q1543.96 1466.67 1542.09 1467.08 Q1540.23 1467.5 1538.29 1468.38 L1538.29 1451.02 Z\" fill=\"#000000\" fill-rule=\"evenodd\" fill-opacity=\"1\" /><path clip-path=\"url(#clip800)\" d=\"M1568.41 1479.7 L1573.29 1479.7 L1573.29 1485.58 L1568.41 1485.58 L1568.41 1479.7 Z\" fill=\"#000000\" fill-rule=\"evenodd\" fill-opacity=\"1\" /><path clip-path=\"url(#clip800)\" d=\"M1587.5 1481.64 L1603.82 1481.64 L1603.82 1485.58 L1581.88 1485.58 L1581.88 1481.64 Q1584.54 1478.89 1589.12 1474.26 Q1593.73 1469.61 1594.91 1468.27 Q1597.15 1465.74 1598.03 1464.01 Q1598.94 1462.25 1598.94 1460.56 Q1598.94 1457.8 1596.99 1456.07 Q1595.07 1454.33 1591.97 1454.33 Q1589.77 1454.33 1587.32 1455.09 Q1584.89 1455.86 1582.11 1457.41 L1582.11 1452.69 Q1584.93 1451.55 1587.39 1450.97 Q1589.84 1450.39 1591.88 1450.39 Q1597.25 1450.39 1600.44 1453.08 Q1603.64 1455.77 1603.64 1460.26 Q1603.64 1462.39 1602.83 1464.31 Q1602.04 1466.2 1599.93 1468.8 Q1599.35 1469.47 1596.25 1472.69 Q1593.15 1475.88 1587.5 1481.64 Z\" fill=\"#000000\" fill-rule=\"evenodd\" fill-opacity=\"1\" /><path clip-path=\"url(#clip800)\" d=\"M1961.16 1451.02 L1979.52 1451.02 L1979.52 1454.96 L1965.45 1454.96 L1965.45 1463.43 Q1966.46 1463.08 1967.48 1462.92 Q1968.5 1462.73 1969.52 1462.73 Q1975.31 1462.73 1978.69 1465.9 Q1982.07 1469.08 1982.07 1474.49 Q1982.07 1480.07 1978.59 1483.17 Q1975.12 1486.25 1968.8 1486.25 Q1966.63 1486.25 1964.36 1485.88 Q1962.11 1485.51 1959.7 1484.77 L1959.7 1480.07 Q1961.79 1481.2 1964.01 1481.76 Q1966.23 1482.32 1968.71 1482.32 Q1972.71 1482.32 1975.05 1480.21 Q1977.39 1478.1 1977.39 1474.49 Q1977.39 1470.88 1975.05 1468.77 Q1972.71 1466.67 1968.71 1466.67 Q1966.83 1466.67 1964.96 1467.08 Q1963.11 1467.5 1961.16 1468.38 L1961.16 1451.02 Z\" fill=\"#000000\" fill-rule=\"evenodd\" fill-opacity=\"1\" /><path clip-path=\"url(#clip800)\" d=\"M1991.28 1479.7 L1996.16 1479.7 L1996.16 1485.58 L1991.28 1485.58 L1991.28 1479.7 Z\" fill=\"#000000\" fill-rule=\"evenodd\" fill-opacity=\"1\" /><path clip-path=\"url(#clip800)\" d=\"M2019.2 1455.09 L2007.39 1473.54 L2019.2 1473.54 L2019.2 1455.09 M2017.97 1451.02 L2023.85 1451.02 L2023.85 1473.54 L2028.78 1473.54 L2028.78 1477.43 L2023.85 1477.43 L2023.85 1485.58 L2019.2 1485.58 L2019.2 1477.43 L2003.59 1477.43 L2003.59 1472.92 L2017.97 1451.02 Z\" fill=\"#000000\" fill-rule=\"evenodd\" fill-opacity=\"1\" /><path clip-path=\"url(#clip800)\" d=\"M1259.14 1518.52 L1265 1518.52 L1265 1568.04 L1259.14 1568.04 L1259.14 1518.52 Z\" fill=\"#000000\" fill-rule=\"evenodd\" fill-opacity=\"1\" /><path clip-path=\"url(#clip800)\" d=\"M1304.34 1578.87 L1304.34 1583.42 L1270.47 1583.42 L1270.47 1578.87 L1304.34 1578.87 Z\" fill=\"#000000\" fill-rule=\"evenodd\" fill-opacity=\"1\" /><path clip-path=\"url(#clip800)\" d=\"M1303.57 1520.52 L1310.48 1520.52 L1323.66 1540.07 L1336.74 1520.52 L1343.64 1520.52 L1326.84 1545.41 L1326.84 1568.04 L1320.38 1568.04 L1320.38 1545.41 L1303.57 1520.52 Z\" fill=\"#000000\" fill-rule=\"evenodd\" fill-opacity=\"1\" /><polyline clip-path=\"url(#clip802)\" style=\"stroke:#000000; stroke-linecap:butt; stroke-linejoin:round; stroke-width:2; stroke-opacity:0.1; fill:none\" points=\"\n",
       "  250.028,1386.42 2352.76,1386.42 \n",
       "  \"/>\n",
       "<polyline clip-path=\"url(#clip802)\" style=\"stroke:#000000; stroke-linecap:butt; stroke-linejoin:round; stroke-width:2; stroke-opacity:0.1; fill:none\" points=\"\n",
       "  250.028,1085.64 2352.76,1085.64 \n",
       "  \"/>\n",
       "<polyline clip-path=\"url(#clip802)\" style=\"stroke:#000000; stroke-linecap:butt; stroke-linejoin:round; stroke-width:2; stroke-opacity:0.1; fill:none\" points=\"\n",
       "  250.028,784.873 2352.76,784.873 \n",
       "  \"/>\n",
       "<polyline clip-path=\"url(#clip802)\" style=\"stroke:#000000; stroke-linecap:butt; stroke-linejoin:round; stroke-width:2; stroke-opacity:0.1; fill:none\" points=\"\n",
       "  250.028,484.101 2352.76,484.101 \n",
       "  \"/>\n",
       "<polyline clip-path=\"url(#clip802)\" style=\"stroke:#000000; stroke-linecap:butt; stroke-linejoin:round; stroke-width:2; stroke-opacity:0.1; fill:none\" points=\"\n",
       "  250.028,183.33 2352.76,183.33 \n",
       "  \"/>\n",
       "<polyline clip-path=\"url(#clip800)\" style=\"stroke:#000000; stroke-linecap:butt; stroke-linejoin:round; stroke-width:4; stroke-opacity:1; fill:none\" points=\"\n",
       "  250.028,1423.18 250.028,123.472 \n",
       "  \"/>\n",
       "<polyline clip-path=\"url(#clip800)\" style=\"stroke:#000000; stroke-linecap:butt; stroke-linejoin:round; stroke-width:4; stroke-opacity:1; fill:none\" points=\"\n",
       "  250.028,1386.42 268.926,1386.42 \n",
       "  \"/>\n",
       "<polyline clip-path=\"url(#clip800)\" style=\"stroke:#000000; stroke-linecap:butt; stroke-linejoin:round; stroke-width:4; stroke-opacity:1; fill:none\" points=\"\n",
       "  250.028,1085.64 268.926,1085.64 \n",
       "  \"/>\n",
       "<polyline clip-path=\"url(#clip800)\" style=\"stroke:#000000; stroke-linecap:butt; stroke-linejoin:round; stroke-width:4; stroke-opacity:1; fill:none\" points=\"\n",
       "  250.028,784.873 268.926,784.873 \n",
       "  \"/>\n",
       "<polyline clip-path=\"url(#clip800)\" style=\"stroke:#000000; stroke-linecap:butt; stroke-linejoin:round; stroke-width:4; stroke-opacity:1; fill:none\" points=\"\n",
       "  250.028,484.101 268.926,484.101 \n",
       "  \"/>\n",
       "<polyline clip-path=\"url(#clip800)\" style=\"stroke:#000000; stroke-linecap:butt; stroke-linejoin:round; stroke-width:4; stroke-opacity:1; fill:none\" points=\"\n",
       "  250.028,183.33 268.926,183.33 \n",
       "  \"/>\n",
       "<path clip-path=\"url(#clip800)\" d=\"M126.691 1372.21 Q123.08 1372.21 121.251 1375.78 Q119.445 1379.32 119.445 1386.45 Q119.445 1393.56 121.251 1397.12 Q123.08 1400.66 126.691 1400.66 Q130.325 1400.66 132.13 1397.12 Q133.959 1393.56 133.959 1386.45 Q133.959 1379.32 132.13 1375.78 Q130.325 1372.21 126.691 1372.21 M126.691 1368.51 Q132.501 1368.51 135.556 1373.12 Q138.635 1377.7 138.635 1386.45 Q138.635 1395.18 135.556 1399.78 Q132.501 1404.37 126.691 1404.37 Q120.88 1404.37 117.802 1399.78 Q114.746 1395.18 114.746 1386.45 Q114.746 1377.7 117.802 1373.12 Q120.88 1368.51 126.691 1368.51 Z\" fill=\"#000000\" fill-rule=\"evenodd\" fill-opacity=\"1\" /><path clip-path=\"url(#clip800)\" d=\"M146.853 1397.82 L151.737 1397.82 L151.737 1403.7 L146.853 1403.7 L146.853 1397.82 Z\" fill=\"#000000\" fill-rule=\"evenodd\" fill-opacity=\"1\" /><path clip-path=\"url(#clip800)\" d=\"M171.922 1372.21 Q168.311 1372.21 166.482 1375.78 Q164.677 1379.32 164.677 1386.45 Q164.677 1393.56 166.482 1397.12 Q168.311 1400.66 171.922 1400.66 Q175.556 1400.66 177.362 1397.12 Q179.19 1393.56 179.19 1386.45 Q179.19 1379.32 177.362 1375.78 Q175.556 1372.21 171.922 1372.21 M171.922 1368.51 Q177.732 1368.51 180.788 1373.12 Q183.866 1377.7 183.866 1386.45 Q183.866 1395.18 180.788 1399.78 Q177.732 1404.37 171.922 1404.37 Q166.112 1404.37 163.033 1399.78 Q159.978 1395.18 159.978 1386.45 Q159.978 1377.7 163.033 1373.12 Q166.112 1368.51 171.922 1368.51 Z\" fill=\"#000000\" fill-rule=\"evenodd\" fill-opacity=\"1\" /><path clip-path=\"url(#clip800)\" d=\"M202.084 1372.21 Q198.473 1372.21 196.644 1375.78 Q194.838 1379.32 194.838 1386.45 Q194.838 1393.56 196.644 1397.12 Q198.473 1400.66 202.084 1400.66 Q205.718 1400.66 207.524 1397.12 Q209.352 1393.56 209.352 1386.45 Q209.352 1379.32 207.524 1375.78 Q205.718 1372.21 202.084 1372.21 M202.084 1368.51 Q207.894 1368.51 210.949 1373.12 Q214.028 1377.7 214.028 1386.45 Q214.028 1395.18 210.949 1399.78 Q207.894 1404.37 202.084 1404.37 Q196.274 1404.37 193.195 1399.78 Q190.139 1395.18 190.139 1386.45 Q190.139 1377.7 193.195 1373.12 Q196.274 1368.51 202.084 1368.51 Z\" fill=\"#000000\" fill-rule=\"evenodd\" fill-opacity=\"1\" /><path clip-path=\"url(#clip800)\" d=\"M127.917 1071.44 Q124.306 1071.44 122.478 1075.01 Q120.672 1078.55 120.672 1085.68 Q120.672 1092.79 122.478 1096.35 Q124.306 1099.89 127.917 1099.89 Q131.552 1099.89 133.357 1096.35 Q135.186 1092.79 135.186 1085.68 Q135.186 1078.55 133.357 1075.01 Q131.552 1071.44 127.917 1071.44 M127.917 1067.74 Q133.728 1067.74 136.783 1072.35 Q139.862 1076.93 139.862 1085.68 Q139.862 1094.41 136.783 1099.01 Q133.728 1103.6 127.917 1103.6 Q122.107 1103.6 119.029 1099.01 Q115.973 1094.41 115.973 1085.68 Q115.973 1076.93 119.029 1072.35 Q122.107 1067.74 127.917 1067.74 Z\" fill=\"#000000\" fill-rule=\"evenodd\" fill-opacity=\"1\" /><path clip-path=\"url(#clip800)\" d=\"M148.079 1097.04 L152.964 1097.04 L152.964 1102.92 L148.079 1102.92 L148.079 1097.04 Z\" fill=\"#000000\" fill-rule=\"evenodd\" fill-opacity=\"1\" /><path clip-path=\"url(#clip800)\" d=\"M173.149 1071.44 Q169.538 1071.44 167.709 1075.01 Q165.903 1078.55 165.903 1085.68 Q165.903 1092.79 167.709 1096.35 Q169.538 1099.89 173.149 1099.89 Q176.783 1099.89 178.589 1096.35 Q180.417 1092.79 180.417 1085.68 Q180.417 1078.55 178.589 1075.01 Q176.783 1071.44 173.149 1071.44 M173.149 1067.74 Q178.959 1067.74 182.014 1072.35 Q185.093 1076.93 185.093 1085.68 Q185.093 1094.41 182.014 1099.01 Q178.959 1103.6 173.149 1103.6 Q167.339 1103.6 164.26 1099.01 Q161.204 1094.41 161.204 1085.68 Q161.204 1076.93 164.26 1072.35 Q167.339 1067.74 173.149 1067.74 Z\" fill=\"#000000\" fill-rule=\"evenodd\" fill-opacity=\"1\" /><path clip-path=\"url(#clip800)\" d=\"M194.121 1098.99 L201.76 1098.99 L201.76 1072.62 L193.45 1074.29 L193.45 1070.03 L201.713 1068.36 L206.389 1068.36 L206.389 1098.99 L214.028 1098.99 L214.028 1102.92 L194.121 1102.92 L194.121 1098.99 Z\" fill=\"#000000\" fill-rule=\"evenodd\" fill-opacity=\"1\" /><path clip-path=\"url(#clip800)\" d=\"M128.288 770.672 Q124.677 770.672 122.848 774.236 Q121.043 777.778 121.043 784.908 Q121.043 792.014 122.848 795.579 Q124.677 799.121 128.288 799.121 Q131.922 799.121 133.728 795.579 Q135.556 792.014 135.556 784.908 Q135.556 777.778 133.728 774.236 Q131.922 770.672 128.288 770.672 M128.288 766.968 Q134.098 766.968 137.154 771.574 Q140.232 776.158 140.232 784.908 Q140.232 793.634 137.154 798.241 Q134.098 802.824 128.288 802.824 Q122.478 802.824 119.399 798.241 Q116.343 793.634 116.343 784.908 Q116.343 776.158 119.399 771.574 Q122.478 766.968 128.288 766.968 Z\" fill=\"#000000\" fill-rule=\"evenodd\" fill-opacity=\"1\" /><path clip-path=\"url(#clip800)\" d=\"M148.45 796.273 L153.334 796.273 L153.334 802.153 L148.45 802.153 L148.45 796.273 Z\" fill=\"#000000\" fill-rule=\"evenodd\" fill-opacity=\"1\" /><path clip-path=\"url(#clip800)\" d=\"M173.519 770.672 Q169.908 770.672 168.079 774.236 Q166.274 777.778 166.274 784.908 Q166.274 792.014 168.079 795.579 Q169.908 799.121 173.519 799.121 Q177.153 799.121 178.959 795.579 Q180.788 792.014 180.788 784.908 Q180.788 777.778 178.959 774.236 Q177.153 770.672 173.519 770.672 M173.519 766.968 Q179.329 766.968 182.385 771.574 Q185.463 776.158 185.463 784.908 Q185.463 793.634 182.385 798.241 Q179.329 802.824 173.519 802.824 Q167.709 802.824 164.63 798.241 Q161.575 793.634 161.575 784.908 Q161.575 776.158 164.63 771.574 Q167.709 766.968 173.519 766.968 Z\" fill=\"#000000\" fill-rule=\"evenodd\" fill-opacity=\"1\" /><path clip-path=\"url(#clip800)\" d=\"M197.709 798.218 L214.028 798.218 L214.028 802.153 L192.084 802.153 L192.084 798.218 Q194.746 795.463 199.329 790.834 Q203.936 786.181 205.116 784.838 Q207.362 782.315 208.241 780.579 Q209.144 778.82 209.144 777.13 Q209.144 774.375 207.199 772.639 Q205.278 770.903 202.176 770.903 Q199.977 770.903 197.524 771.667 Q195.093 772.431 192.315 773.982 L192.315 769.26 Q195.139 768.125 197.593 767.547 Q200.047 766.968 202.084 766.968 Q207.454 766.968 210.649 769.653 Q213.843 772.338 213.843 776.829 Q213.843 778.959 213.033 780.88 Q212.246 782.778 210.139 785.371 Q209.561 786.042 206.459 789.259 Q203.357 792.454 197.709 798.218 Z\" fill=\"#000000\" fill-rule=\"evenodd\" fill-opacity=\"1\" /><path clip-path=\"url(#clip800)\" d=\"M127.339 469.9 Q123.728 469.9 121.899 473.465 Q120.093 477.007 120.093 484.136 Q120.093 491.243 121.899 494.807 Q123.728 498.349 127.339 498.349 Q130.973 498.349 132.779 494.807 Q134.607 491.243 134.607 484.136 Q134.607 477.007 132.779 473.465 Q130.973 469.9 127.339 469.9 M127.339 466.196 Q133.149 466.196 136.204 470.803 Q139.283 475.386 139.283 484.136 Q139.283 492.863 136.204 497.469 Q133.149 502.053 127.339 502.053 Q121.529 502.053 118.45 497.469 Q115.394 492.863 115.394 484.136 Q115.394 475.386 118.45 470.803 Q121.529 466.196 127.339 466.196 Z\" fill=\"#000000\" fill-rule=\"evenodd\" fill-opacity=\"1\" /><path clip-path=\"url(#clip800)\" d=\"M147.501 495.502 L152.385 495.502 L152.385 501.381 L147.501 501.381 L147.501 495.502 Z\" fill=\"#000000\" fill-rule=\"evenodd\" fill-opacity=\"1\" /><path clip-path=\"url(#clip800)\" d=\"M172.57 469.9 Q168.959 469.9 167.13 473.465 Q165.325 477.007 165.325 484.136 Q165.325 491.243 167.13 494.807 Q168.959 498.349 172.57 498.349 Q176.204 498.349 178.01 494.807 Q179.839 491.243 179.839 484.136 Q179.839 477.007 178.01 473.465 Q176.204 469.9 172.57 469.9 M172.57 466.196 Q178.38 466.196 181.436 470.803 Q184.514 475.386 184.514 484.136 Q184.514 492.863 181.436 497.469 Q178.38 502.053 172.57 502.053 Q166.76 502.053 163.681 497.469 Q160.626 492.863 160.626 484.136 Q160.626 475.386 163.681 470.803 Q166.76 466.196 172.57 466.196 Z\" fill=\"#000000\" fill-rule=\"evenodd\" fill-opacity=\"1\" /><path clip-path=\"url(#clip800)\" d=\"M206.899 482.747 Q210.255 483.465 212.13 485.733 Q214.028 488.002 214.028 491.335 Q214.028 496.451 210.51 499.252 Q206.991 502.053 200.51 502.053 Q198.334 502.053 196.019 501.613 Q193.727 501.196 191.274 500.34 L191.274 495.826 Q193.218 496.96 195.533 497.539 Q197.848 498.118 200.371 498.118 Q204.769 498.118 207.061 496.382 Q209.375 494.645 209.375 491.335 Q209.375 488.28 207.223 486.567 Q205.093 484.831 201.274 484.831 L197.246 484.831 L197.246 480.988 L201.459 480.988 Q204.908 480.988 206.737 479.622 Q208.565 478.233 208.565 475.641 Q208.565 472.979 206.667 471.567 Q204.792 470.132 201.274 470.132 Q199.352 470.132 197.153 470.548 Q194.954 470.965 192.315 471.845 L192.315 467.678 Q194.977 466.937 197.292 466.567 Q199.63 466.196 201.69 466.196 Q207.014 466.196 210.116 468.627 Q213.218 471.034 213.218 475.155 Q213.218 478.025 211.574 480.016 Q209.931 481.983 206.899 482.747 Z\" fill=\"#000000\" fill-rule=\"evenodd\" fill-opacity=\"1\" /><path clip-path=\"url(#clip800)\" d=\"M126.205 169.129 Q122.593 169.129 120.765 172.694 Q118.959 176.235 118.959 183.365 Q118.959 190.471 120.765 194.036 Q122.593 197.578 126.205 197.578 Q129.839 197.578 131.644 194.036 Q133.473 190.471 133.473 183.365 Q133.473 176.235 131.644 172.694 Q129.839 169.129 126.205 169.129 M126.205 165.425 Q132.015 165.425 135.07 170.032 Q138.149 174.615 138.149 183.365 Q138.149 192.092 135.07 196.698 Q132.015 201.281 126.205 201.281 Q120.394 201.281 117.316 196.698 Q114.26 192.092 114.26 183.365 Q114.26 174.615 117.316 170.032 Q120.394 165.425 126.205 165.425 Z\" fill=\"#000000\" fill-rule=\"evenodd\" fill-opacity=\"1\" /><path clip-path=\"url(#clip800)\" d=\"M146.366 194.73 L151.251 194.73 L151.251 200.61 L146.366 200.61 L146.366 194.73 Z\" fill=\"#000000\" fill-rule=\"evenodd\" fill-opacity=\"1\" /><path clip-path=\"url(#clip800)\" d=\"M171.436 169.129 Q167.825 169.129 165.996 172.694 Q164.19 176.235 164.19 183.365 Q164.19 190.471 165.996 194.036 Q167.825 197.578 171.436 197.578 Q175.07 197.578 176.876 194.036 Q178.704 190.471 178.704 183.365 Q178.704 176.235 176.876 172.694 Q175.07 169.129 171.436 169.129 M171.436 165.425 Q177.246 165.425 180.301 170.032 Q183.38 174.615 183.38 183.365 Q183.38 192.092 180.301 196.698 Q177.246 201.281 171.436 201.281 Q165.626 201.281 162.547 196.698 Q159.491 192.092 159.491 183.365 Q159.491 174.615 162.547 170.032 Q165.626 165.425 171.436 165.425 Z\" fill=\"#000000\" fill-rule=\"evenodd\" fill-opacity=\"1\" /><path clip-path=\"url(#clip800)\" d=\"M204.445 170.124 L192.639 188.573 L204.445 188.573 L204.445 170.124 M203.218 166.05 L209.098 166.05 L209.098 188.573 L214.028 188.573 L214.028 192.462 L209.098 192.462 L209.098 200.61 L204.445 200.61 L204.445 192.462 L188.843 192.462 L188.843 187.948 L203.218 166.05 Z\" fill=\"#000000\" fill-rule=\"evenodd\" fill-opacity=\"1\" /><path clip-path=\"url(#clip800)\" d=\"M33.8307 846.42 Q33.2578 847.407 33.0032 848.585 Q32.7167 849.73 32.7167 851.131 Q32.7167 856.096 35.9632 858.77 Q39.1779 861.411 45.2253 861.411 L64.0042 861.411 L64.0042 867.3 L28.3562 867.3 L28.3562 861.411 L33.8944 861.411 Q30.6479 859.565 29.0883 856.605 Q27.4968 853.645 27.4968 849.412 Q27.4968 848.807 27.5923 848.075 Q27.656 847.343 27.8151 846.452 L33.8307 846.42 Z\" fill=\"#000000\" fill-rule=\"evenodd\" fill-opacity=\"1\" /><path clip-path=\"url(#clip800)\" d=\"M44.7161 811.218 L47.5806 811.218 L47.5806 838.145 Q53.6281 837.763 56.8109 834.516 Q59.9619 831.238 59.9619 825.413 Q59.9619 822.04 59.1344 818.889 Q58.3069 815.706 56.6518 812.586 L62.1899 812.586 Q63.5267 815.738 64.227 819.048 Q64.9272 822.358 64.9272 825.763 Q64.9272 834.294 59.9619 839.291 Q54.9967 844.256 46.5303 844.256 Q37.7774 844.256 32.6531 839.545 Q27.4968 834.803 27.4968 826.782 Q27.4968 819.589 32.1438 815.419 Q36.7589 811.218 44.7161 811.218 M42.9973 817.074 Q38.1912 817.138 35.3266 819.78 Q32.4621 822.39 32.4621 826.718 Q32.4621 831.62 35.2312 834.58 Q38.0002 837.508 43.0292 837.954 L42.9973 817.074 Z\" fill=\"#000000\" fill-rule=\"evenodd\" fill-opacity=\"1\" /><path clip-path=\"url(#clip800)\" d=\"M29.4065 778.88 L34.9447 778.88 Q33.6716 781.363 33.035 784.036 Q32.3984 786.71 32.3984 789.574 Q32.3984 793.935 33.7352 796.131 Q35.072 798.295 37.7456 798.295 Q39.7826 798.295 40.9603 796.736 Q42.1061 795.176 43.1565 790.466 L43.6021 788.46 Q44.9389 782.222 47.3897 779.612 Q49.8086 776.97 54.1691 776.97 Q59.1344 776.97 62.0308 780.917 Q64.9272 784.832 64.9272 791.707 Q64.9272 794.572 64.3543 797.691 Q63.8132 800.778 62.6992 804.216 L56.6518 804.216 Q58.3387 800.969 59.198 797.818 Q60.0256 794.667 60.0256 791.58 Q60.0256 787.442 58.6251 785.214 Q57.1929 782.986 54.6147 782.986 Q52.2276 782.986 50.9545 784.609 Q49.6813 786.201 48.5037 791.643 L48.0262 793.68 Q46.8804 799.123 44.5251 801.542 Q42.138 803.961 38.0002 803.961 Q32.9713 803.961 30.2341 800.396 Q27.4968 796.831 27.4968 790.275 Q27.4968 787.028 27.9743 784.164 Q28.4517 781.299 29.4065 778.88 Z\" fill=\"#000000\" fill-rule=\"evenodd\" fill-opacity=\"1\" /><path clip-path=\"url(#clip800)\" d=\"M28.3562 767.645 L28.3562 761.788 L64.0042 761.788 L64.0042 767.645 L28.3562 767.645 M14.479 767.645 L14.479 761.788 L21.895 761.788 L21.895 767.645 L14.479 767.645 Z\" fill=\"#000000\" fill-rule=\"evenodd\" fill-opacity=\"1\" /><path clip-path=\"url(#clip800)\" d=\"M33.7671 726.077 L14.479 726.077 L14.479 720.22 L64.0042 720.22 L64.0042 726.077 L58.657 726.077 Q61.8398 727.923 63.3994 730.755 Q64.9272 733.556 64.9272 737.503 Q64.9272 743.964 59.771 748.038 Q54.6147 752.08 46.212 752.08 Q37.8093 752.08 32.6531 748.038 Q27.4968 743.964 27.4968 737.503 Q27.4968 733.556 29.0564 730.755 Q30.5842 727.923 33.7671 726.077 M46.212 746.033 Q52.6732 746.033 56.3653 743.391 Q60.0256 740.718 60.0256 736.071 Q60.0256 731.424 56.3653 728.75 Q52.6732 726.077 46.212 726.077 Q39.7508 726.077 36.0905 728.75 Q32.3984 731.424 32.3984 736.071 Q32.3984 740.718 36.0905 743.391 Q39.7508 746.033 46.212 746.033 Z\" fill=\"#000000\" fill-rule=\"evenodd\" fill-opacity=\"1\" /><path clip-path=\"url(#clip800)\" d=\"M58.5933 701.791 L58.5933 679.352 L64.0042 679.352 L64.0042 709.526 L58.5933 709.526 Q54.8057 705.865 48.44 699.563 Q42.0425 693.229 40.1964 691.606 Q36.7271 688.519 34.34 687.309 Q31.921 686.068 29.5975 686.068 Q25.8099 686.068 23.4228 688.742 Q21.0356 691.383 21.0356 695.648 Q21.0356 698.672 22.086 702.046 Q23.1363 705.388 25.2688 709.207 L18.7758 709.207 Q17.2162 705.324 16.4205 701.95 Q15.6248 698.577 15.6248 695.776 Q15.6248 688.392 19.3169 683.999 Q23.009 679.607 29.1837 679.607 Q32.112 679.607 34.7537 680.721 Q37.3637 681.803 40.9285 684.699 Q41.8515 685.495 46.2757 689.76 Q50.668 694.025 58.5933 701.791 Z\" fill=\"#000000\" fill-rule=\"evenodd\" fill-opacity=\"1\" /><path clip-path=\"url(#clip800)\" d=\"M831.102 14.0809 L831.102 22.0612 Q826.444 19.8332 822.312 18.7395 Q818.18 17.6457 814.332 17.6457 Q807.648 17.6457 804.002 20.2383 Q800.396 22.8309 800.396 27.611 Q800.396 31.6214 802.786 33.6873 Q805.217 35.7128 811.942 36.9686 L816.884 37.9813 Q826.039 39.7232 830.373 44.1387 Q834.748 48.5136 834.748 55.8863 Q834.748 64.6767 828.834 69.2137 Q822.96 73.7508 811.577 73.7508 Q807.283 73.7508 802.422 72.7785 Q797.601 71.8063 792.416 69.9024 L792.416 61.4765 Q797.399 64.2716 802.179 65.6895 Q806.959 67.1073 811.577 67.1073 Q818.585 67.1073 822.393 64.3527 Q826.201 61.598 826.201 56.4939 Q826.201 52.0379 823.446 49.5264 Q820.732 47.0148 814.494 45.759 L809.511 44.7868 Q800.356 42.9639 796.265 39.075 Q792.173 35.1862 792.173 28.2591 Q792.173 20.2383 797.804 15.6203 Q803.475 11.0023 813.4 11.0023 Q817.653 11.0023 822.069 11.7719 Q826.484 12.5416 831.102 14.0809 Z\" fill=\"#000000\" fill-rule=\"evenodd\" fill-opacity=\"1\" /><path clip-path=\"url(#clip800)\" d=\"M879.835 28.9478 L879.835 35.9153 Q876.675 34.1734 873.475 33.3227 Q870.315 32.4315 867.074 32.4315 Q859.823 32.4315 855.813 37.0496 Q851.802 41.6271 851.802 49.9314 Q851.802 58.2358 855.813 62.8538 Q859.823 67.4314 867.074 67.4314 Q870.315 67.4314 873.475 66.5807 Q876.675 65.6895 879.835 63.9476 L879.835 70.8341 Q876.715 72.2924 873.353 73.0216 Q870.031 73.7508 866.264 73.7508 Q856.015 73.7508 849.98 67.3098 Q843.944 60.8689 843.944 49.9314 Q843.944 38.832 850.02 32.472 Q856.137 26.1121 866.75 26.1121 Q870.194 26.1121 873.475 26.8413 Q876.756 27.5299 879.835 28.9478 Z\" fill=\"#000000\" fill-rule=\"evenodd\" fill-opacity=\"1\" /><path clip-path=\"url(#clip800)\" d=\"M913.417 49.7694 Q904.383 49.7694 900.899 51.8354 Q897.416 53.9013 897.416 58.8839 Q897.416 62.8538 900.008 65.2034 Q902.641 67.5124 907.138 67.5124 Q913.336 67.5124 917.062 63.1374 Q920.83 58.7219 920.83 51.4303 L920.83 49.7694 L913.417 49.7694 M928.283 46.6907 L928.283 72.576 L920.83 72.576 L920.83 65.6895 Q918.278 69.8214 914.47 71.8063 Q910.662 73.7508 905.153 73.7508 Q898.185 73.7508 894.053 69.8619 Q889.962 65.9325 889.962 59.3701 Q889.962 51.7138 895.066 47.825 Q900.211 43.9361 910.378 43.9361 L920.83 43.9361 L920.83 43.2069 Q920.83 38.0623 917.427 35.2672 Q914.065 32.4315 907.948 32.4315 Q904.059 32.4315 900.373 33.3632 Q896.686 34.295 893.284 36.1584 L893.284 29.2718 Q897.375 27.692 901.223 26.9223 Q905.072 26.1121 908.718 26.1121 Q918.561 26.1121 923.422 31.2163 Q928.283 36.3204 928.283 46.6907 Z\" fill=\"#000000\" fill-rule=\"evenodd\" fill-opacity=\"1\" /><path clip-path=\"url(#clip800)\" d=\"M951.009 14.324 L951.009 27.2059 L966.362 27.2059 L966.362 32.9987 L951.009 32.9987 L951.009 57.6282 Q951.009 63.1779 952.508 64.7578 Q954.047 66.3376 958.706 66.3376 L966.362 66.3376 L966.362 72.576 L958.706 72.576 Q950.077 72.576 946.796 69.3758 Q943.515 66.1351 943.515 57.6282 L943.515 32.9987 L938.046 32.9987 L938.046 27.2059 L943.515 27.2059 L943.515 14.324 L951.009 14.324 Z\" fill=\"#000000\" fill-rule=\"evenodd\" fill-opacity=\"1\" /><path clip-path=\"url(#clip800)\" d=\"M983.538 14.324 L983.538 27.2059 L998.891 27.2059 L998.891 32.9987 L983.538 32.9987 L983.538 57.6282 Q983.538 63.1779 985.037 64.7578 Q986.576 66.3376 991.235 66.3376 L998.891 66.3376 L998.891 72.576 L991.235 72.576 Q982.606 72.576 979.325 69.3758 Q976.044 66.1351 976.044 57.6282 L976.044 32.9987 L970.575 32.9987 L970.575 27.2059 L976.044 27.2059 L976.044 14.324 L983.538 14.324 Z\" fill=\"#000000\" fill-rule=\"evenodd\" fill-opacity=\"1\" /><path clip-path=\"url(#clip800)\" d=\"M1047.5 48.0275 L1047.5 51.6733 L1013.23 51.6733 Q1013.72 59.3701 1017.85 63.421 Q1022.02 67.4314 1029.43 67.4314 Q1033.73 67.4314 1037.74 66.3781 Q1041.79 65.3249 1045.76 63.2184 L1045.76 70.267 Q1041.75 71.9684 1037.54 72.8596 Q1033.32 73.7508 1028.99 73.7508 Q1018.13 73.7508 1011.77 67.4314 Q1005.45 61.1119 1005.45 50.3365 Q1005.45 39.1965 1011.45 32.6746 Q1017.48 26.1121 1027.69 26.1121 Q1036.85 26.1121 1042.15 32.0264 Q1047.5 37.9003 1047.5 48.0275 M1040.05 45.84 Q1039.97 39.7232 1036.6 36.0774 Q1033.28 32.4315 1027.77 32.4315 Q1021.54 32.4315 1017.77 35.9558 Q1014.04 39.4801 1013.47 45.8805 L1040.05 45.84 Z\" fill=\"#000000\" fill-rule=\"evenodd\" fill-opacity=\"1\" /><path clip-path=\"url(#clip800)\" d=\"M1086.03 34.1734 Q1084.77 33.4443 1083.27 33.1202 Q1081.81 32.7556 1080.03 32.7556 Q1073.71 32.7556 1070.31 36.8875 Q1066.95 40.9789 1066.95 48.6757 L1066.95 72.576 L1059.45 72.576 L1059.45 27.2059 L1066.95 27.2059 L1066.95 34.2544 Q1069.3 30.1225 1073.06 28.1376 Q1076.83 26.1121 1082.22 26.1121 Q1082.99 26.1121 1083.92 26.2337 Q1084.85 26.3147 1085.99 26.5172 L1086.03 34.1734 Z\" fill=\"#000000\" fill-rule=\"evenodd\" fill-opacity=\"1\" /><path clip-path=\"url(#clip800)\" d=\"M1128.72 18.8205 L1128.72 41.5461 L1139.01 41.5461 Q1144.72 41.5461 1147.84 38.5889 Q1150.96 35.6318 1150.96 30.163 Q1150.96 24.7348 1147.84 21.7777 Q1144.72 18.8205 1139.01 18.8205 L1128.72 18.8205 M1120.54 12.096 L1139.01 12.096 Q1149.18 12.096 1154.36 16.714 Q1159.59 21.2916 1159.59 30.163 Q1159.59 39.1155 1154.36 43.6931 Q1149.18 48.2706 1139.01 48.2706 L1128.72 48.2706 L1128.72 72.576 L1120.54 72.576 L1120.54 12.096 Z\" fill=\"#000000\" fill-rule=\"evenodd\" fill-opacity=\"1\" /><path clip-path=\"url(#clip800)\" d=\"M1170.24 9.54393 L1177.7 9.54393 L1177.7 72.576 L1170.24 72.576 L1170.24 9.54393 Z\" fill=\"#000000\" fill-rule=\"evenodd\" fill-opacity=\"1\" /><path clip-path=\"url(#clip800)\" d=\"M1210.87 32.4315 Q1204.88 32.4315 1201.4 37.1306 Q1197.91 41.7891 1197.91 49.9314 Q1197.91 58.0738 1201.35 62.7728 Q1204.84 67.4314 1210.87 67.4314 Q1216.83 67.4314 1220.31 62.7323 Q1223.8 58.0333 1223.8 49.9314 Q1223.8 41.8701 1220.31 37.1711 Q1216.83 32.4315 1210.87 32.4315 M1210.87 26.1121 Q1220.6 26.1121 1226.15 32.4315 Q1231.7 38.7509 1231.7 49.9314 Q1231.7 61.0714 1226.15 67.4314 Q1220.6 73.7508 1210.87 73.7508 Q1201.11 73.7508 1195.56 67.4314 Q1190.05 61.0714 1190.05 49.9314 Q1190.05 38.7509 1195.56 32.4315 Q1201.11 26.1121 1210.87 26.1121 Z\" fill=\"#000000\" fill-rule=\"evenodd\" fill-opacity=\"1\" /><path clip-path=\"url(#clip800)\" d=\"M1251.42 14.324 L1251.42 27.2059 L1266.78 27.2059 L1266.78 32.9987 L1251.42 32.9987 L1251.42 57.6282 Q1251.42 63.1779 1252.92 64.7578 Q1254.46 66.3376 1259.12 66.3376 L1266.78 66.3376 L1266.78 72.576 L1259.12 72.576 Q1250.49 72.576 1247.21 69.3758 Q1243.93 66.1351 1243.93 57.6282 L1243.93 32.9987 L1238.46 32.9987 L1238.46 27.2059 L1243.93 27.2059 L1243.93 14.324 L1251.42 14.324 Z\" fill=\"#000000\" fill-rule=\"evenodd\" fill-opacity=\"1\" /><path clip-path=\"url(#clip800)\" d=\"M1329.24 34.1734 Q1327.99 33.4443 1326.49 33.1202 Q1325.03 32.7556 1323.25 32.7556 Q1316.93 32.7556 1313.52 36.8875 Q1310.16 40.9789 1310.16 48.6757 L1310.16 72.576 L1302.67 72.576 L1302.67 27.2059 L1310.16 27.2059 L1310.16 34.2544 Q1312.51 30.1225 1316.28 28.1376 Q1320.05 26.1121 1325.43 26.1121 Q1326.2 26.1121 1327.14 26.2337 Q1328.07 26.3147 1329.2 26.5172 L1329.24 34.1734 Z\" fill=\"#000000\" fill-rule=\"evenodd\" fill-opacity=\"1\" /><path clip-path=\"url(#clip800)\" d=\"M1374.04 48.0275 L1374.04 51.6733 L1339.77 51.6733 Q1340.26 59.3701 1344.39 63.421 Q1348.56 67.4314 1355.98 67.4314 Q1360.27 67.4314 1364.28 66.3781 Q1368.33 65.3249 1372.3 63.2184 L1372.3 70.267 Q1368.29 71.9684 1364.08 72.8596 Q1359.87 73.7508 1355.53 73.7508 Q1344.68 73.7508 1338.32 67.4314 Q1332 61.1119 1332 50.3365 Q1332 39.1965 1337.99 32.6746 Q1344.03 26.1121 1354.24 26.1121 Q1363.39 26.1121 1368.7 32.0264 Q1374.04 37.9003 1374.04 48.0275 M1366.59 45.84 Q1366.51 39.7232 1363.15 36.0774 Q1359.83 32.4315 1354.32 32.4315 Q1348.08 32.4315 1344.31 35.9558 Q1340.58 39.4801 1340.02 45.8805 L1366.59 45.84 Z\" fill=\"#000000\" fill-rule=\"evenodd\" fill-opacity=\"1\" /><path clip-path=\"url(#clip800)\" d=\"M1415.2 28.5427 L1415.2 35.5912 Q1412.04 33.9709 1408.64 33.1607 Q1405.24 32.3505 1401.59 32.3505 Q1396.04 32.3505 1393.25 34.0519 Q1390.49 35.7533 1390.49 39.156 Q1390.49 41.7486 1392.48 43.2475 Q1394.46 44.7058 1400.46 46.0426 L1403.01 46.6097 Q1410.95 48.3111 1414.27 51.4303 Q1417.63 54.509 1417.63 60.0587 Q1417.63 66.3781 1412.61 70.0644 Q1407.63 73.7508 1398.88 73.7508 Q1395.23 73.7508 1391.26 73.0216 Q1387.33 72.3329 1382.96 70.9151 L1382.96 63.2184 Q1387.09 65.3654 1391.1 66.4591 Q1395.11 67.5124 1399.04 67.5124 Q1404.31 67.5124 1407.14 65.73 Q1409.98 63.9071 1409.98 60.6258 Q1409.98 57.5877 1407.91 55.9673 Q1405.89 54.3469 1398.96 52.8481 L1396.37 52.2405 Q1389.44 50.7821 1386.36 47.7845 Q1383.28 44.7463 1383.28 39.4801 Q1383.28 33.0797 1387.82 29.5959 Q1392.36 26.1121 1400.7 26.1121 Q1404.83 26.1121 1408.48 26.7198 Q1412.12 27.3274 1415.2 28.5427 Z\" fill=\"#000000\" fill-rule=\"evenodd\" fill-opacity=\"1\" /><path clip-path=\"url(#clip800)\" d=\"M1429.5 27.2059 L1436.96 27.2059 L1436.96 72.576 L1429.5 72.576 L1429.5 27.2059 M1429.5 9.54393 L1436.96 9.54393 L1436.96 18.9825 L1429.5 18.9825 L1429.5 9.54393 Z\" fill=\"#000000\" fill-rule=\"evenodd\" fill-opacity=\"1\" /><path clip-path=\"url(#clip800)\" d=\"M1482.41 34.0924 L1482.41 9.54393 L1489.86 9.54393 L1489.86 72.576 L1482.41 72.576 L1482.41 65.7705 Q1480.06 69.8214 1476.45 71.8063 Q1472.89 73.7508 1467.86 73.7508 Q1459.64 73.7508 1454.46 67.1883 Q1449.31 60.6258 1449.31 49.9314 Q1449.31 39.2371 1454.46 32.6746 Q1459.64 26.1121 1467.86 26.1121 Q1472.89 26.1121 1476.45 28.0971 Q1480.06 30.0415 1482.41 34.0924 M1457.01 49.9314 Q1457.01 58.1548 1460.37 62.8538 Q1463.77 67.5124 1469.69 67.5124 Q1475.6 67.5124 1479 62.8538 Q1482.41 58.1548 1482.41 49.9314 Q1482.41 41.7081 1479 37.0496 Q1475.6 32.3505 1469.69 32.3505 Q1463.77 32.3505 1460.37 37.0496 Q1457.01 41.7081 1457.01 49.9314 Z\" fill=\"#000000\" fill-rule=\"evenodd\" fill-opacity=\"1\" /><path clip-path=\"url(#clip800)\" d=\"M1513.32 65.6895 L1541.87 65.6895 L1541.87 72.576 L1503.47 72.576 L1503.47 65.6895 Q1508.13 60.8689 1516.15 52.7671 Q1524.21 44.6248 1526.28 42.2752 Q1530.21 37.8598 1531.75 34.8216 Q1533.33 31.7429 1533.33 28.7857 Q1533.33 23.9651 1529.92 20.927 Q1526.56 17.8888 1521.13 17.8888 Q1517.28 17.8888 1512.99 19.2256 Q1508.74 20.5624 1503.88 23.2765 L1503.88 15.0127 Q1508.82 13.0277 1513.11 12.015 Q1517.41 11.0023 1520.97 11.0023 Q1530.37 11.0023 1535.96 15.7013 Q1541.55 20.4004 1541.55 28.2591 Q1541.55 31.9859 1540.13 35.3482 Q1538.75 38.6699 1535.07 43.2069 Q1534.06 44.3817 1528.63 50.0125 Q1523.2 55.6027 1513.32 65.6895 Z\" fill=\"#000000\" fill-rule=\"evenodd\" fill-opacity=\"1\" /><path clip-path=\"url(#clip800)\" d=\"M1579.02 27.2059 L1586.92 27.2059 L1601.1 65.2844 L1615.28 27.2059 L1623.18 27.2059 L1606.16 72.576 L1596.03 72.576 L1579.02 27.2059 Z\" fill=\"#000000\" fill-rule=\"evenodd\" fill-opacity=\"1\" /><path clip-path=\"url(#clip800)\" d=\"M1662.39 28.5427 L1662.39 35.5912 Q1659.23 33.9709 1655.83 33.1607 Q1652.42 32.3505 1648.78 32.3505 Q1643.23 32.3505 1640.43 34.0519 Q1637.68 35.7533 1637.68 39.156 Q1637.68 41.7486 1639.66 43.2475 Q1641.65 44.7058 1647.64 46.0426 L1650.2 46.6097 Q1658.13 48.3111 1661.46 51.4303 Q1664.82 54.509 1664.82 60.0587 Q1664.82 66.3781 1659.8 70.0644 Q1654.81 73.7508 1646.06 73.7508 Q1642.42 73.7508 1638.45 73.0216 Q1634.52 72.3329 1630.14 70.9151 L1630.14 63.2184 Q1634.28 65.3654 1638.29 66.4591 Q1642.3 67.5124 1646.23 67.5124 Q1651.49 67.5124 1654.33 65.73 Q1657.16 63.9071 1657.16 60.6258 Q1657.16 57.5877 1655.1 55.9673 Q1653.07 54.3469 1646.14 52.8481 L1643.55 52.2405 Q1636.62 50.7821 1633.55 47.7845 Q1630.47 44.7463 1630.47 39.4801 Q1630.47 33.0797 1635 29.5959 Q1639.54 26.1121 1647.89 26.1121 Q1652.02 26.1121 1655.66 26.7198 Q1659.31 27.3274 1662.39 28.5427 Z\" fill=\"#000000\" fill-rule=\"evenodd\" fill-opacity=\"1\" /><path clip-path=\"url(#clip800)\" d=\"M1703.06 9.54393 L1710.51 9.54393 L1710.51 72.576 L1703.06 72.576 L1703.06 9.54393 Z\" fill=\"#000000\" fill-rule=\"evenodd\" fill-opacity=\"1\" /><path clip-path=\"url(#clip800)\" d=\"M1760.58 86.3491 L1760.58 92.1419 L1717.48 92.1419 L1717.48 86.3491 L1760.58 86.3491 Z\" fill=\"#000000\" fill-rule=\"evenodd\" fill-opacity=\"1\" /><path clip-path=\"url(#clip800)\" d=\"M1759.61 12.096 L1768.4 12.096 L1785.17 36.9686 L1801.82 12.096 L1810.61 12.096 L1789.22 43.7741 L1789.22 72.576 L1781 72.576 L1781 43.7741 L1759.61 12.096 Z\" fill=\"#000000\" fill-rule=\"evenodd\" fill-opacity=\"1\" /><circle clip-path=\"url(#clip802)\" cx=\"309.539\" cy=\"1281.28\" r=\"14\" fill=\"#009af9\" fill-rule=\"evenodd\" fill-opacity=\"1\" stroke=\"#000000\" stroke-opacity=\"1\" stroke-width=\"3.2\"/>\n",
       "<circle clip-path=\"url(#clip802)\" cx=\"468.342\" cy=\"1386.4\" r=\"14\" fill=\"#009af9\" fill-rule=\"evenodd\" fill-opacity=\"1\" stroke=\"#000000\" stroke-opacity=\"1\" stroke-width=\"3.2\"/>\n",
       "<circle clip-path=\"url(#clip802)\" cx=\"533.219\" cy=\"1345.38\" r=\"14\" fill=\"#009af9\" fill-rule=\"evenodd\" fill-opacity=\"1\" stroke=\"#000000\" stroke-opacity=\"1\" stroke-width=\"3.2\"/>\n",
       "<circle clip-path=\"url(#clip802)\" cx=\"641.596\" cy=\"1255.76\" r=\"14\" fill=\"#009af9\" fill-rule=\"evenodd\" fill-opacity=\"1\" stroke=\"#000000\" stroke-opacity=\"1\" stroke-width=\"3.2\"/>\n",
       "<circle clip-path=\"url(#clip802)\" cx=\"669.859\" cy=\"1333.41\" r=\"14\" fill=\"#009af9\" fill-rule=\"evenodd\" fill-opacity=\"1\" stroke=\"#000000\" stroke-opacity=\"1\" stroke-width=\"3.2\"/>\n",
       "<circle clip-path=\"url(#clip802)\" cx=\"818.823\" cy=\"1386.15\" r=\"14\" fill=\"#009af9\" fill-rule=\"evenodd\" fill-opacity=\"1\" stroke=\"#000000\" stroke-opacity=\"1\" stroke-width=\"3.2\"/>\n",
       "<circle clip-path=\"url(#clip802)\" cx=\"918.932\" cy=\"1385.81\" r=\"14\" fill=\"#009af9\" fill-rule=\"evenodd\" fill-opacity=\"1\" stroke=\"#000000\" stroke-opacity=\"1\" stroke-width=\"3.2\"/>\n",
       "<circle clip-path=\"url(#clip802)\" cx=\"941.548\" cy=\"1380.1\" r=\"14\" fill=\"#009af9\" fill-rule=\"evenodd\" fill-opacity=\"1\" stroke=\"#000000\" stroke-opacity=\"1\" stroke-width=\"3.2\"/>\n",
       "<circle clip-path=\"url(#clip802)\" cx=\"1220.33\" cy=\"1362.69\" r=\"14\" fill=\"#009af9\" fill-rule=\"evenodd\" fill-opacity=\"1\" stroke=\"#000000\" stroke-opacity=\"1\" stroke-width=\"3.2\"/>\n",
       "<circle clip-path=\"url(#clip802)\" cx=\"1244.46\" cy=\"1362.05\" r=\"14\" fill=\"#009af9\" fill-rule=\"evenodd\" fill-opacity=\"1\" stroke=\"#000000\" stroke-opacity=\"1\" stroke-width=\"3.2\"/>\n",
       "<circle clip-path=\"url(#clip802)\" cx=\"1323.16\" cy=\"1300.04\" r=\"14\" fill=\"#009af9\" fill-rule=\"evenodd\" fill-opacity=\"1\" stroke=\"#000000\" stroke-opacity=\"1\" stroke-width=\"3.2\"/>\n",
       "<circle clip-path=\"url(#clip802)\" cx=\"1363.76\" cy=\"1322.06\" r=\"14\" fill=\"#009af9\" fill-rule=\"evenodd\" fill-opacity=\"1\" stroke=\"#000000\" stroke-opacity=\"1\" stroke-width=\"3.2\"/>\n",
       "<circle clip-path=\"url(#clip802)\" cx=\"1395.62\" cy=\"1154.79\" r=\"14\" fill=\"#009af9\" fill-rule=\"evenodd\" fill-opacity=\"1\" stroke=\"#000000\" stroke-opacity=\"1\" stroke-width=\"3.2\"/>\n",
       "<circle clip-path=\"url(#clip802)\" cx=\"1575.67\" cy=\"1351.41\" r=\"14\" fill=\"#009af9\" fill-rule=\"evenodd\" fill-opacity=\"1\" stroke=\"#000000\" stroke-opacity=\"1\" stroke-width=\"3.2\"/>\n",
       "<circle clip-path=\"url(#clip802)\" cx=\"1647.57\" cy=\"1302.22\" r=\"14\" fill=\"#009af9\" fill-rule=\"evenodd\" fill-opacity=\"1\" stroke=\"#000000\" stroke-opacity=\"1\" stroke-width=\"3.2\"/>\n",
       "<circle clip-path=\"url(#clip802)\" cx=\"1655.89\" cy=\"1385.4\" r=\"14\" fill=\"#009af9\" fill-rule=\"evenodd\" fill-opacity=\"1\" stroke=\"#000000\" stroke-opacity=\"1\" stroke-width=\"3.2\"/>\n",
       "<circle clip-path=\"url(#clip802)\" cx=\"1660.27\" cy=\"1340.8\" r=\"14\" fill=\"#009af9\" fill-rule=\"evenodd\" fill-opacity=\"1\" stroke=\"#000000\" stroke-opacity=\"1\" stroke-width=\"3.2\"/>\n",
       "<circle clip-path=\"url(#clip802)\" cx=\"1701.01\" cy=\"1069.86\" r=\"14\" fill=\"#009af9\" fill-rule=\"evenodd\" fill-opacity=\"1\" stroke=\"#000000\" stroke-opacity=\"1\" stroke-width=\"3.2\"/>\n",
       "<circle clip-path=\"url(#clip802)\" cx=\"1823.49\" cy=\"1293.31\" r=\"14\" fill=\"#009af9\" fill-rule=\"evenodd\" fill-opacity=\"1\" stroke=\"#000000\" stroke-opacity=\"1\" stroke-width=\"3.2\"/>\n",
       "<circle clip-path=\"url(#clip802)\" cx=\"1869.78\" cy=\"1341.24\" r=\"14\" fill=\"#009af9\" fill-rule=\"evenodd\" fill-opacity=\"1\" stroke=\"#000000\" stroke-opacity=\"1\" stroke-width=\"3.2\"/>\n",
       "<circle clip-path=\"url(#clip802)\" cx=\"1947.92\" cy=\"1377.94\" r=\"14\" fill=\"#009af9\" fill-rule=\"evenodd\" fill-opacity=\"1\" stroke=\"#000000\" stroke-opacity=\"1\" stroke-width=\"3.2\"/>\n",
       "<circle clip-path=\"url(#clip802)\" cx=\"1959.43\" cy=\"1371.22\" r=\"14\" fill=\"#009af9\" fill-rule=\"evenodd\" fill-opacity=\"1\" stroke=\"#000000\" stroke-opacity=\"1\" stroke-width=\"3.2\"/>\n",
       "<circle clip-path=\"url(#clip802)\" cx=\"2000.97\" cy=\"1291.75\" r=\"14\" fill=\"#009af9\" fill-rule=\"evenodd\" fill-opacity=\"1\" stroke=\"#000000\" stroke-opacity=\"1\" stroke-width=\"3.2\"/>\n",
       "<circle clip-path=\"url(#clip802)\" cx=\"2002.87\" cy=\"1222.51\" r=\"14\" fill=\"#009af9\" fill-rule=\"evenodd\" fill-opacity=\"1\" stroke=\"#000000\" stroke-opacity=\"1\" stroke-width=\"3.2\"/>\n",
       "<circle clip-path=\"url(#clip802)\" cx=\"2085.34\" cy=\"160.256\" r=\"14\" fill=\"#009af9\" fill-rule=\"evenodd\" fill-opacity=\"1\" stroke=\"#000000\" stroke-opacity=\"1\" stroke-width=\"3.2\"/>\n",
       "<circle clip-path=\"url(#clip802)\" cx=\"2085.89\" cy=\"1380.81\" r=\"14\" fill=\"#009af9\" fill-rule=\"evenodd\" fill-opacity=\"1\" stroke=\"#000000\" stroke-opacity=\"1\" stroke-width=\"3.2\"/>\n",
       "<circle clip-path=\"url(#clip802)\" cx=\"2113.76\" cy=\"595.849\" r=\"14\" fill=\"#009af9\" fill-rule=\"evenodd\" fill-opacity=\"1\" stroke=\"#000000\" stroke-opacity=\"1\" stroke-width=\"3.2\"/>\n",
       "<circle clip-path=\"url(#clip802)\" cx=\"2182.31\" cy=\"965.783\" r=\"14\" fill=\"#009af9\" fill-rule=\"evenodd\" fill-opacity=\"1\" stroke=\"#000000\" stroke-opacity=\"1\" stroke-width=\"3.2\"/>\n",
       "<circle clip-path=\"url(#clip802)\" cx=\"2184.15\" cy=\"1319.56\" r=\"14\" fill=\"#009af9\" fill-rule=\"evenodd\" fill-opacity=\"1\" stroke=\"#000000\" stroke-opacity=\"1\" stroke-width=\"3.2\"/>\n",
       "<circle clip-path=\"url(#clip802)\" cx=\"2293.24\" cy=\"1201.94\" r=\"14\" fill=\"#009af9\" fill-rule=\"evenodd\" fill-opacity=\"1\" stroke=\"#000000\" stroke-opacity=\"1\" stroke-width=\"3.2\"/>\n",
       "</svg>\n"
      ]
     },
     "execution_count": 114,
     "metadata": {},
     "output_type": "execute_result"
    }
   ],
   "source": [
    "scatter(data.l_Y,data.resid2, title = \"Scatter Plot resid2 vs l_Y\", ylabel = \"resid2\", xlabel = \"l_Y\",legend = false)"
   ]
  },
  {
   "cell_type": "code",
   "execution_count": 89,
   "id": "c38a7cb5-d7d3-4d93-9ef3-66304ba77373",
   "metadata": {},
   "outputs": [
    {
     "data": {
      "text/plain": [
       "Continuous Response Model\n",
       "Number of observations: 30\n",
       "Null Loglikelihood: -68.36\n",
       "Loglikelihood: -65.08\n",
       "R-squared: 0.1978\n",
       "LR Test: 6.54 ∼ χ²(1) ⟹  Pr > χ² = 0.0105\n",
       "Formula: log(resid ^ 2) ~ 1 + (log(Y))\n",
       "Variance Covariance Estimator: OIM\n",
       "──────────────────────────────────────────────────────────────────────────\n",
       "                 PE       SE      t-value  Pr > |t|       2.50%     97.50%\n",
       "──────────────────────────────────────────────────────────────────────────\n",
       "(Intercept)  -26.6579   7.56514  -3.52378    0.0015  -42.1544    -11.1614\n",
       "log(Y)         3.84634  1.46374   2.62775    0.0138    0.848003    6.84468\n",
       "──────────────────────────────────────────────────────────────────────────"
      ]
     },
     "execution_count": 89,
     "metadata": {},
     "output_type": "execute_result"
    }
   ],
   "source": [
    "# Regresión auxliar\n",
    "reg_aux = fit(EconometricModel, @formula(log(resid^2) ~ log(Y)), data)"
   ]
  },
  {
   "cell_type": "code",
   "execution_count": 90,
   "id": "13a65cd7-6985-4d87-b4b9-285881235fc5",
   "metadata": {},
   "outputs": [
    {
     "data": {
      "text/plain": [
       "30-element Vector{Float64}:\n",
       " -8.94481836222532\n",
       " -8.656643217882213\n",
       " -8.538912290301031\n",
       " -8.342243837233681\n",
       " -8.290956378394899\n",
       " -8.020635301615034\n",
       " -7.838968595824493\n",
       " -7.797928875227548\n",
       " -7.2920373617086085\n",
       " -7.248237744278676\n",
       " -7.105422398861393\n",
       " -7.03174283110911\n",
       " -6.973937182158785\n",
       "  ⋮\n",
       " -6.197483681989663\n",
       " -6.1134858092938344\n",
       " -5.971695939984816\n",
       " -5.950800388833738\n",
       " -5.875429310772095\n",
       " -5.871967467123586\n",
       " -5.7223158063868205\n",
       " -5.7213174892246705\n",
       " -5.6707418622162855\n",
       " -5.546342926862476\n",
       " -5.543005845490043\n",
       " -5.34503952196938"
      ]
     },
     "execution_count": 90,
     "metadata": {},
     "output_type": "execute_result"
    }
   ],
   "source": [
    "l_sigma2=(predict(reg_aux))"
   ]
  },
  {
   "cell_type": "code",
   "execution_count": 91,
   "id": "766574f3-8fa4-4375-8f34-4082d8277a2c",
   "metadata": {},
   "outputs": [
    {
     "data": {
      "text/plain": [
       "30-element Vector{Float64}:\n",
       " -8.94481836222532\n",
       " -8.656643217882213\n",
       " -8.538912290301031\n",
       " -8.342243837233681\n",
       " -8.290956378394899\n",
       " -8.020635301615034\n",
       " -7.838968595824493\n",
       " -7.797928875227548\n",
       " -7.2920373617086085\n",
       " -7.248237744278676\n",
       " -7.105422398861393\n",
       " -7.03174283110911\n",
       " -6.973937182158785\n",
       "  ⋮\n",
       " -6.197483681989663\n",
       " -6.1134858092938344\n",
       " -5.971695939984816\n",
       " -5.950800388833738\n",
       " -5.875429310772095\n",
       " -5.871967467123586\n",
       " -5.7223158063868205\n",
       " -5.7213174892246705\n",
       " -5.6707418622162855\n",
       " -5.546342926862476\n",
       " -5.543005845490043\n",
       " -5.34503952196938"
      ]
     },
     "execution_count": 91,
     "metadata": {},
     "output_type": "execute_result"
    }
   ],
   "source": [
    "data.l_sigma2 = l_sigma2"
   ]
  },
  {
   "cell_type": "code",
   "execution_count": 92,
   "id": "ca755624-4e59-4333-a077-1993a127dd70",
   "metadata": {},
   "outputs": [
    {
     "data": {
      "text/html": [
       "<table class=\"data-frame\"><thead><tr><th></th><th>resid</th><th>Y</th><th>l_sigma2</th></tr><tr><th></th><th>Float64</th><th>Float64</th><th>Float64</th></tr></thead><tbody><p>30 rows × 3 columns</p><tr><th>1</th><td>0.0591241</td><td>100.0</td><td>-8.94482</td></tr><tr><th>2</th><td>-0.000817598</td><td>107.78</td><td>-8.65664</td></tr><tr><th>3</th><td>0.0369351</td><td>111.13</td><td>-8.53891</td></tr><tr><th>4</th><td>-0.0659103</td><td>116.96</td><td>-8.34224</td></tr><tr><th>5</th><td>0.0419813</td><td>118.53</td><td>-8.29096</td></tr><tr><th>6</th><td>-0.00297911</td><td>127.16</td><td>-8.02064</td></tr><tr><th>7</th><td>0.00448554</td><td>133.31</td><td>-7.83897</td></tr><tr><th>8</th><td>-0.0144879</td><td>134.74</td><td>-7.79793</td></tr><tr><th>9</th><td>0.0280834</td><td>153.68</td><td>-7.29204</td></tr><tr><th>10</th><td>-0.0284622</td><td>155.44</td><td>-7.24824</td></tr><tr><th>11</th><td>-0.0535877</td><td>161.32</td><td>-7.10542</td></tr><tr><th>12</th><td>-0.0462568</td><td>164.44</td><td>-7.03174</td></tr><tr><th>13</th><td>0.0877548</td><td>166.93</td><td>-6.97394</td></tr><tr><th>14</th><td>-0.0341167</td><td>181.73</td><td>-6.6472</td></tr><tr><th>15</th><td>-0.05291</td><td>188.0</td><td>-6.51673</td></tr><tr><th>16</th><td>-0.00580232</td><td>188.74</td><td>-6.50162</td></tr><tr><th>17</th><td>-0.0389431</td><td>189.13</td><td>-6.49368</td></tr><tr><th>18</th><td>-0.102591</td><td>192.8</td><td>-6.41976</td></tr><tr><th>19</th><td>0.0556391</td><td>204.27</td><td>-6.19748</td></tr><tr><th>20</th><td>0.0387556</td><td>208.78</td><td>-6.11349</td></tr><tr><th>21</th><td>-0.0167851</td><td>216.62</td><td>-5.9717</td></tr><tr><th>22</th><td>-0.0224755</td><td>217.8</td><td>-5.9508</td></tr><tr><th>23</th><td>-0.0561032</td><td>222.11</td><td>-5.87543</td></tr><tr><th>24</th><td>-0.0738216</td><td>222.31</td><td>-5.87197</td></tr><tr><th>25</th><td>0.201909</td><td>231.13</td><td>-5.72232</td></tr><tr><th>26</th><td>-0.0136547</td><td>231.19</td><td>-5.72132</td></tr><tr><th>27</th><td>0.162125</td><td>234.25</td><td>-5.67074</td></tr><tr><th>28</th><td>-0.118259</td><td>241.95</td><td>-5.54634</td></tr><tr><th>29</th><td>-0.0471453</td><td>242.16</td><td>-5.54301</td></tr><tr><th>30</th><td>0.0783158</td><td>254.95</td><td>-5.34504</td></tr></tbody></table>"
      ],
      "text/latex": [
       "\\begin{tabular}{r|ccc}\n",
       "\t& resid & Y & l\\_sigma2\\\\\n",
       "\t\\hline\n",
       "\t& Float64 & Float64 & Float64\\\\\n",
       "\t\\hline\n",
       "\t1 & 0.0591241 & 100.0 & -8.94482 \\\\\n",
       "\t2 & -0.000817598 & 107.78 & -8.65664 \\\\\n",
       "\t3 & 0.0369351 & 111.13 & -8.53891 \\\\\n",
       "\t4 & -0.0659103 & 116.96 & -8.34224 \\\\\n",
       "\t5 & 0.0419813 & 118.53 & -8.29096 \\\\\n",
       "\t6 & -0.00297911 & 127.16 & -8.02064 \\\\\n",
       "\t7 & 0.00448554 & 133.31 & -7.83897 \\\\\n",
       "\t8 & -0.0144879 & 134.74 & -7.79793 \\\\\n",
       "\t9 & 0.0280834 & 153.68 & -7.29204 \\\\\n",
       "\t10 & -0.0284622 & 155.44 & -7.24824 \\\\\n",
       "\t11 & -0.0535877 & 161.32 & -7.10542 \\\\\n",
       "\t12 & -0.0462568 & 164.44 & -7.03174 \\\\\n",
       "\t13 & 0.0877548 & 166.93 & -6.97394 \\\\\n",
       "\t14 & -0.0341167 & 181.73 & -6.6472 \\\\\n",
       "\t15 & -0.05291 & 188.0 & -6.51673 \\\\\n",
       "\t16 & -0.00580232 & 188.74 & -6.50162 \\\\\n",
       "\t17 & -0.0389431 & 189.13 & -6.49368 \\\\\n",
       "\t18 & -0.102591 & 192.8 & -6.41976 \\\\\n",
       "\t19 & 0.0556391 & 204.27 & -6.19748 \\\\\n",
       "\t20 & 0.0387556 & 208.78 & -6.11349 \\\\\n",
       "\t21 & -0.0167851 & 216.62 & -5.9717 \\\\\n",
       "\t22 & -0.0224755 & 217.8 & -5.9508 \\\\\n",
       "\t23 & -0.0561032 & 222.11 & -5.87543 \\\\\n",
       "\t24 & -0.0738216 & 222.31 & -5.87197 \\\\\n",
       "\t25 & 0.201909 & 231.13 & -5.72232 \\\\\n",
       "\t26 & -0.0136547 & 231.19 & -5.72132 \\\\\n",
       "\t27 & 0.162125 & 234.25 & -5.67074 \\\\\n",
       "\t28 & -0.118259 & 241.95 & -5.54634 \\\\\n",
       "\t29 & -0.0471453 & 242.16 & -5.54301 \\\\\n",
       "\t30 & 0.0783158 & 254.95 & -5.34504 \\\\\n",
       "\\end{tabular}\n"
      ],
      "text/plain": [
       "30×3 DataFrame\n",
       "│ Row │ resid        │ Y       │ l_sigma2 │\n",
       "│     │ \u001b[90mFloat64\u001b[39m      │ \u001b[90mFloat64\u001b[39m │ \u001b[90mFloat64\u001b[39m  │\n",
       "├─────┼──────────────┼─────────┼──────────┤\n",
       "│ 1   │ 0.0591241    │ 100.0   │ -8.94482 │\n",
       "│ 2   │ -0.000817598 │ 107.78  │ -8.65664 │\n",
       "│ 3   │ 0.0369351    │ 111.13  │ -8.53891 │\n",
       "│ 4   │ -0.0659103   │ 116.96  │ -8.34224 │\n",
       "│ 5   │ 0.0419813    │ 118.53  │ -8.29096 │\n",
       "│ 6   │ -0.00297911  │ 127.16  │ -8.02064 │\n",
       "│ 7   │ 0.00448554   │ 133.31  │ -7.83897 │\n",
       "│ 8   │ -0.0144879   │ 134.74  │ -7.79793 │\n",
       "│ 9   │ 0.0280834    │ 153.68  │ -7.29204 │\n",
       "│ 10  │ -0.0284622   │ 155.44  │ -7.24824 │\n",
       "⋮\n",
       "│ 20  │ 0.0387556    │ 208.78  │ -6.11349 │\n",
       "│ 21  │ -0.0167851   │ 216.62  │ -5.9717  │\n",
       "│ 22  │ -0.0224755   │ 217.8   │ -5.9508  │\n",
       "│ 23  │ -0.0561032   │ 222.11  │ -5.87543 │\n",
       "│ 24  │ -0.0738216   │ 222.31  │ -5.87197 │\n",
       "│ 25  │ 0.201909     │ 231.13  │ -5.72232 │\n",
       "│ 26  │ -0.0136547   │ 231.19  │ -5.72132 │\n",
       "│ 27  │ 0.162125     │ 234.25  │ -5.67074 │\n",
       "│ 28  │ -0.118259    │ 241.95  │ -5.54634 │\n",
       "│ 29  │ -0.0471453   │ 242.16  │ -5.54301 │\n",
       "│ 30  │ 0.0783158    │ 254.95  │ -5.34504 │"
      ]
     },
     "execution_count": 92,
     "metadata": {},
     "output_type": "execute_result"
    }
   ],
   "source": [
    "data"
   ]
  },
  {
   "cell_type": "code",
   "execution_count": 93,
   "id": "fe642007-f09a-4282-bbfa-46e798f281e1",
   "metadata": {},
   "outputs": [
    {
     "data": {
      "text/plain": [
       "30-element Vector{Float64}:\n",
       " -8.94481836222532\n",
       " -8.656643217882213\n",
       " -8.538912290301031\n",
       " -8.342243837233681\n",
       " -8.290956378394899\n",
       " -8.020635301615034\n",
       " -7.838968595824493\n",
       " -7.797928875227548\n",
       " -7.2920373617086085\n",
       " -7.248237744278676\n",
       " -7.105422398861393\n",
       " -7.03174283110911\n",
       " -6.973937182158785\n",
       "  ⋮\n",
       " -6.197483681989663\n",
       " -6.1134858092938344\n",
       " -5.971695939984816\n",
       " -5.950800388833738\n",
       " -5.875429310772095\n",
       " -5.871967467123586\n",
       " -5.7223158063868205\n",
       " -5.7213174892246705\n",
       " -5.6707418622162855\n",
       " -5.546342926862476\n",
       " -5.543005845490043\n",
       " -5.34503952196938"
      ]
     },
     "execution_count": 93,
     "metadata": {},
     "output_type": "execute_result"
    }
   ],
   "source": [
    "DEM_HET.l_sigma2 = l_sigma2"
   ]
  },
  {
   "cell_type": "code",
   "execution_count": 94,
   "id": "d51fee51-65d5-4da3-a3d6-bbdeb5eb311b",
   "metadata": {},
   "outputs": [
    {
     "data": {
      "text/html": [
       "<table class=\"data-frame\"><thead><tr><th></th><th>PA</th><th>PB</th><th>PC</th><th>QA</th><th>Y</th><th>l_sigma2</th></tr><tr><th></th><th>Float64</th><th>Float64</th><th>Float64</th><th>Float64</th><th>Float64</th><th>Float64</th></tr></thead><tbody><p>30 rows × 6 columns</p><tr><th>1</th><td>100.0</td><td>100.0</td><td>100.0</td><td>100.0</td><td>100.0</td><td>-8.94482</td></tr><tr><th>2</th><td>102.42</td><td>84.64</td><td>85.85</td><td>93.74</td><td>107.78</td><td>-8.65664</td></tr><tr><th>3</th><td>89.15</td><td>97.87</td><td>91.76</td><td>119.32</td><td>111.13</td><td>-8.53891</td></tr><tr><th>4</th><td>97.05</td><td>94.83</td><td>99.83</td><td>98.94</td><td>116.96</td><td>-8.34224</td></tr><tr><th>5</th><td>105.26</td><td>90.45</td><td>103.58</td><td>99.58</td><td>118.53</td><td>-8.29096</td></tr><tr><th>6</th><td>102.82</td><td>111.66</td><td>98.07</td><td>117.33</td><td>127.16</td><td>-8.02064</td></tr><tr><th>7</th><td>113.35</td><td>94.2</td><td>104.66</td><td>99.87</td><td>133.31</td><td>-7.83897</td></tr><tr><th>8</th><td>112.9</td><td>94.66</td><td>100.1</td><td>100.95</td><td>134.74</td><td>-7.79793</td></tr><tr><th>9</th><td>112.33</td><td>94.18</td><td>103.31</td><td>115.09</td><td>153.68</td><td>-7.29204</td></tr><tr><th>10</th><td>114.16</td><td>86.85</td><td>129.01</td><td>95.66</td><td>155.44</td><td>-7.24824</td></tr><tr><th>11</th><td>102.93</td><td>84.34</td><td>119.65</td><td>106.22</td><td>161.32</td><td>-7.10542</td></tr><tr><th>12</th><td>97.77</td><td>76.17</td><td>118.3</td><td>107.81</td><td>164.44</td><td>-7.03174</td></tr><tr><th>13</th><td>98.77</td><td>84.42</td><td>109.3</td><td>134.44</td><td>166.93</td><td>-6.97394</td></tr><tr><th>14</th><td>117.4</td><td>89.18</td><td>145.91</td><td>101.31</td><td>181.73</td><td>-6.6472</td></tr><tr><th>15</th><td>111.53</td><td>79.87</td><td>131.44</td><td>104.13</td><td>188.0</td><td>-6.51673</td></tr><tr><th>16</th><td>112.3</td><td>80.37</td><td>110.58</td><td>115.97</td><td>188.74</td><td>-6.50162</td></tr><tr><th>17</th><td>112.01</td><td>80.64</td><td>135.4</td><td>105.13</td><td>189.13</td><td>-6.49368</td></tr><tr><th>18</th><td>109.71</td><td>85.11</td><td>133.16</td><td>105.64</td><td>192.8</td><td>-6.41976</td></tr><tr><th>19</th><td>120.83</td><td>59.62</td><td>145.9</td><td>94.27</td><td>204.27</td><td>-6.19748</td></tr><tr><th>20</th><td>96.4</td><td>71.68</td><td>153.22</td><td>125.41</td><td>208.78</td><td>-6.11349</td></tr><tr><th>21</th><td>108.18</td><td>72.01</td><td>146.77</td><td>111.99</td><td>216.62</td><td>-5.9717</td></tr><tr><th>22</th><td>109.3</td><td>51.04</td><td>140.25</td><td>93.01</td><td>217.8</td><td>-5.9508</td></tr><tr><th>23</th><td>112.03</td><td>82.34</td><td>137.61</td><td>117.14</td><td>222.11</td><td>-5.87543</td></tr><tr><th>24</th><td>117.42</td><td>76.96</td><td>130.23</td><td>108.45</td><td>222.31</td><td>-5.87197</td></tr><tr><th>25</th><td>114.65</td><td>75.89</td><td>152.85</td><td>140.97</td><td>231.13</td><td>-5.72232</td></tr><tr><th>26</th><td>99.08</td><td>79.97</td><td>142.46</td><td>136.55</td><td>231.19</td><td>-5.72132</td></tr><tr><th>27</th><td>117.44</td><td>72.24</td><td>142.57</td><td>133.53</td><td>234.25</td><td>-5.67074</td></tr><tr><th>28</th><td>116.0</td><td>65.47</td><td>165.98</td><td>93.82</td><td>241.95</td><td>-5.54634</td></tr><tr><th>29</th><td>124.85</td><td>66.36</td><td>170.58</td><td>94.22</td><td>242.16</td><td>-5.54301</td></tr><tr><th>30</th><td>122.69</td><td>74.33</td><td>182.04</td><td>117.34</td><td>254.95</td><td>-5.34504</td></tr></tbody></table>"
      ],
      "text/latex": [
       "\\begin{tabular}{r|cccccc}\n",
       "\t& PA & PB & PC & QA & Y & l\\_sigma2\\\\\n",
       "\t\\hline\n",
       "\t& Float64 & Float64 & Float64 & Float64 & Float64 & Float64\\\\\n",
       "\t\\hline\n",
       "\t1 & 100.0 & 100.0 & 100.0 & 100.0 & 100.0 & -8.94482 \\\\\n",
       "\t2 & 102.42 & 84.64 & 85.85 & 93.74 & 107.78 & -8.65664 \\\\\n",
       "\t3 & 89.15 & 97.87 & 91.76 & 119.32 & 111.13 & -8.53891 \\\\\n",
       "\t4 & 97.05 & 94.83 & 99.83 & 98.94 & 116.96 & -8.34224 \\\\\n",
       "\t5 & 105.26 & 90.45 & 103.58 & 99.58 & 118.53 & -8.29096 \\\\\n",
       "\t6 & 102.82 & 111.66 & 98.07 & 117.33 & 127.16 & -8.02064 \\\\\n",
       "\t7 & 113.35 & 94.2 & 104.66 & 99.87 & 133.31 & -7.83897 \\\\\n",
       "\t8 & 112.9 & 94.66 & 100.1 & 100.95 & 134.74 & -7.79793 \\\\\n",
       "\t9 & 112.33 & 94.18 & 103.31 & 115.09 & 153.68 & -7.29204 \\\\\n",
       "\t10 & 114.16 & 86.85 & 129.01 & 95.66 & 155.44 & -7.24824 \\\\\n",
       "\t11 & 102.93 & 84.34 & 119.65 & 106.22 & 161.32 & -7.10542 \\\\\n",
       "\t12 & 97.77 & 76.17 & 118.3 & 107.81 & 164.44 & -7.03174 \\\\\n",
       "\t13 & 98.77 & 84.42 & 109.3 & 134.44 & 166.93 & -6.97394 \\\\\n",
       "\t14 & 117.4 & 89.18 & 145.91 & 101.31 & 181.73 & -6.6472 \\\\\n",
       "\t15 & 111.53 & 79.87 & 131.44 & 104.13 & 188.0 & -6.51673 \\\\\n",
       "\t16 & 112.3 & 80.37 & 110.58 & 115.97 & 188.74 & -6.50162 \\\\\n",
       "\t17 & 112.01 & 80.64 & 135.4 & 105.13 & 189.13 & -6.49368 \\\\\n",
       "\t18 & 109.71 & 85.11 & 133.16 & 105.64 & 192.8 & -6.41976 \\\\\n",
       "\t19 & 120.83 & 59.62 & 145.9 & 94.27 & 204.27 & -6.19748 \\\\\n",
       "\t20 & 96.4 & 71.68 & 153.22 & 125.41 & 208.78 & -6.11349 \\\\\n",
       "\t21 & 108.18 & 72.01 & 146.77 & 111.99 & 216.62 & -5.9717 \\\\\n",
       "\t22 & 109.3 & 51.04 & 140.25 & 93.01 & 217.8 & -5.9508 \\\\\n",
       "\t23 & 112.03 & 82.34 & 137.61 & 117.14 & 222.11 & -5.87543 \\\\\n",
       "\t24 & 117.42 & 76.96 & 130.23 & 108.45 & 222.31 & -5.87197 \\\\\n",
       "\t25 & 114.65 & 75.89 & 152.85 & 140.97 & 231.13 & -5.72232 \\\\\n",
       "\t26 & 99.08 & 79.97 & 142.46 & 136.55 & 231.19 & -5.72132 \\\\\n",
       "\t27 & 117.44 & 72.24 & 142.57 & 133.53 & 234.25 & -5.67074 \\\\\n",
       "\t28 & 116.0 & 65.47 & 165.98 & 93.82 & 241.95 & -5.54634 \\\\\n",
       "\t29 & 124.85 & 66.36 & 170.58 & 94.22 & 242.16 & -5.54301 \\\\\n",
       "\t30 & 122.69 & 74.33 & 182.04 & 117.34 & 254.95 & -5.34504 \\\\\n",
       "\\end{tabular}\n"
      ],
      "text/plain": [
       "30×6 DataFrame\n",
       "│ Row │ PA      │ PB      │ PC      │ QA      │ Y       │ l_sigma2 │\n",
       "│     │ \u001b[90mFloat64\u001b[39m │ \u001b[90mFloat64\u001b[39m │ \u001b[90mFloat64\u001b[39m │ \u001b[90mFloat64\u001b[39m │ \u001b[90mFloat64\u001b[39m │ \u001b[90mFloat64\u001b[39m  │\n",
       "├─────┼─────────┼─────────┼─────────┼─────────┼─────────┼──────────┤\n",
       "│ 1   │ 100.0   │ 100.0   │ 100.0   │ 100.0   │ 100.0   │ -8.94482 │\n",
       "│ 2   │ 102.42  │ 84.64   │ 85.85   │ 93.74   │ 107.78  │ -8.65664 │\n",
       "│ 3   │ 89.15   │ 97.87   │ 91.76   │ 119.32  │ 111.13  │ -8.53891 │\n",
       "│ 4   │ 97.05   │ 94.83   │ 99.83   │ 98.94   │ 116.96  │ -8.34224 │\n",
       "│ 5   │ 105.26  │ 90.45   │ 103.58  │ 99.58   │ 118.53  │ -8.29096 │\n",
       "│ 6   │ 102.82  │ 111.66  │ 98.07   │ 117.33  │ 127.16  │ -8.02064 │\n",
       "│ 7   │ 113.35  │ 94.2    │ 104.66  │ 99.87   │ 133.31  │ -7.83897 │\n",
       "│ 8   │ 112.9   │ 94.66   │ 100.1   │ 100.95  │ 134.74  │ -7.79793 │\n",
       "│ 9   │ 112.33  │ 94.18   │ 103.31  │ 115.09  │ 153.68  │ -7.29204 │\n",
       "│ 10  │ 114.16  │ 86.85   │ 129.01  │ 95.66   │ 155.44  │ -7.24824 │\n",
       "⋮\n",
       "│ 20  │ 96.4    │ 71.68   │ 153.22  │ 125.41  │ 208.78  │ -6.11349 │\n",
       "│ 21  │ 108.18  │ 72.01   │ 146.77  │ 111.99  │ 216.62  │ -5.9717  │\n",
       "│ 22  │ 109.3   │ 51.04   │ 140.25  │ 93.01   │ 217.8   │ -5.9508  │\n",
       "│ 23  │ 112.03  │ 82.34   │ 137.61  │ 117.14  │ 222.11  │ -5.87543 │\n",
       "│ 24  │ 117.42  │ 76.96   │ 130.23  │ 108.45  │ 222.31  │ -5.87197 │\n",
       "│ 25  │ 114.65  │ 75.89   │ 152.85  │ 140.97  │ 231.13  │ -5.72232 │\n",
       "│ 26  │ 99.08   │ 79.97   │ 142.46  │ 136.55  │ 231.19  │ -5.72132 │\n",
       "│ 27  │ 117.44  │ 72.24   │ 142.57  │ 133.53  │ 234.25  │ -5.67074 │\n",
       "│ 28  │ 116.0   │ 65.47   │ 165.98  │ 93.82   │ 241.95  │ -5.54634 │\n",
       "│ 29  │ 124.85  │ 66.36   │ 170.58  │ 94.22   │ 242.16  │ -5.54301 │\n",
       "│ 30  │ 122.69  │ 74.33   │ 182.04  │ 117.34  │ 254.95  │ -5.34504 │"
      ]
     },
     "execution_count": 94,
     "metadata": {},
     "output_type": "execute_result"
    }
   ],
   "source": [
    "DEM_HET"
   ]
  },
  {
   "cell_type": "code",
   "execution_count": 101,
   "id": "5c49804e-670f-46df-86a7-591f9fe66612",
   "metadata": {},
   "outputs": [
    {
     "data": {
      "text/html": [
       "<table class=\"data-frame\"><thead><tr><th></th><th>PA</th><th>PB</th><th>PC</th><th>QA</th><th>Y</th><th>l_sigma2</th><th>w</th></tr><tr><th></th><th>Float64</th><th>Float64</th><th>Float64</th><th>Float64</th><th>Float64</th><th>Float64</th><th>Float64</th></tr></thead><tbody><p>30 rows × 7 columns</p><tr><th>1</th><td>100.0</td><td>100.0</td><td>100.0</td><td>100.0</td><td>100.0</td><td>-8.94482</td><td>87.5674</td></tr><tr><th>2</th><td>102.42</td><td>84.64</td><td>85.85</td><td>93.74</td><td>107.78</td><td>-8.65664</td><td>75.8169</td></tr><tr><th>3</th><td>89.15</td><td>97.87</td><td>91.76</td><td>119.32</td><td>111.13</td><td>-8.53891</td><td>71.4827</td></tr><tr><th>4</th><td>97.05</td><td>94.83</td><td>99.83</td><td>98.94</td><td>116.96</td><td>-8.34224</td><td>64.7881</td></tr><tr><th>5</th><td>105.26</td><td>90.45</td><td>103.58</td><td>99.58</td><td>118.53</td><td>-8.29096</td><td>63.1478</td></tr><tr><th>6</th><td>102.82</td><td>111.66</td><td>98.07</td><td>117.33</td><td>127.16</td><td>-8.02064</td><td>55.1644</td></tr><tr><th>7</th><td>113.35</td><td>94.2</td><td>104.66</td><td>99.87</td><td>133.31</td><td>-7.83897</td><td>50.3745</td></tr><tr><th>8</th><td>112.9</td><td>94.66</td><td>100.1</td><td>100.95</td><td>134.74</td><td>-7.79793</td><td>49.3513</td></tr><tr><th>9</th><td>112.33</td><td>94.18</td><td>103.31</td><td>115.09</td><td>153.68</td><td>-7.29204</td><td>38.3218</td></tr><tr><th>10</th><td>114.16</td><td>86.85</td><td>129.01</td><td>95.66</td><td>155.44</td><td>-7.24824</td><td>37.4917</td></tr><tr><th>11</th><td>102.93</td><td>84.34</td><td>119.65</td><td>106.22</td><td>161.32</td><td>-7.10542</td><td>34.9078</td></tr><tr><th>12</th><td>97.77</td><td>76.17</td><td>118.3</td><td>107.81</td><td>164.44</td><td>-7.03174</td><td>33.6452</td></tr><tr><th>13</th><td>98.77</td><td>84.42</td><td>109.3</td><td>134.44</td><td>166.93</td><td>-6.97394</td><td>32.6867</td></tr><tr><th>14</th><td>117.4</td><td>89.18</td><td>145.91</td><td>101.31</td><td>181.73</td><td>-6.6472</td><td>27.7601</td></tr><tr><th>15</th><td>111.53</td><td>79.87</td><td>131.44</td><td>104.13</td><td>188.0</td><td>-6.51673</td><td>26.007</td></tr><tr><th>16</th><td>112.3</td><td>80.37</td><td>110.58</td><td>115.97</td><td>188.74</td><td>-6.50162</td><td>25.8113</td></tr><tr><th>17</th><td>112.01</td><td>80.64</td><td>135.4</td><td>105.13</td><td>189.13</td><td>-6.49368</td><td>25.709</td></tr><tr><th>18</th><td>109.71</td><td>85.11</td><td>133.16</td><td>105.64</td><td>192.8</td><td>-6.41976</td><td>24.7761</td></tr><tr><th>19</th><td>120.83</td><td>59.62</td><td>145.9</td><td>94.27</td><td>204.27</td><td>-6.19748</td><td>22.17</td></tr><tr><th>20</th><td>96.4</td><td>71.68</td><td>153.22</td><td>125.41</td><td>208.78</td><td>-6.11349</td><td>21.2582</td></tr><tr><th>21</th><td>108.18</td><td>72.01</td><td>146.77</td><td>111.99</td><td>216.62</td><td>-5.9717</td><td>19.8033</td></tr><tr><th>22</th><td>109.3</td><td>51.04</td><td>140.25</td><td>93.01</td><td>217.8</td><td>-5.9508</td><td>19.5975</td></tr><tr><th>23</th><td>112.03</td><td>82.34</td><td>137.61</td><td>117.14</td><td>222.11</td><td>-5.87543</td><td>18.8727</td></tr><tr><th>24</th><td>117.42</td><td>76.96</td><td>130.23</td><td>108.45</td><td>222.31</td><td>-5.87197</td><td>18.84</td></tr><tr><th>25</th><td>114.65</td><td>75.89</td><td>152.85</td><td>140.97</td><td>231.13</td><td>-5.72232</td><td>17.4818</td></tr><tr><th>26</th><td>99.08</td><td>79.97</td><td>142.46</td><td>136.55</td><td>231.19</td><td>-5.72132</td><td>17.473</td></tr><tr><th>27</th><td>117.44</td><td>72.24</td><td>142.57</td><td>133.53</td><td>234.25</td><td>-5.67074</td><td>17.0367</td></tr><tr><th>28</th><td>116.0</td><td>65.47</td><td>165.98</td><td>93.82</td><td>241.95</td><td>-5.54634</td><td>16.0093</td></tr><tr><th>29</th><td>124.85</td><td>66.36</td><td>170.58</td><td>94.22</td><td>242.16</td><td>-5.54301</td><td>15.9826</td></tr><tr><th>30</th><td>122.69</td><td>74.33</td><td>182.04</td><td>117.34</td><td>254.95</td><td>-5.34504</td><td>14.4764</td></tr></tbody></table>"
      ],
      "text/latex": [
       "\\begin{tabular}{r|ccccccc}\n",
       "\t& PA & PB & PC & QA & Y & l\\_sigma2 & w\\\\\n",
       "\t\\hline\n",
       "\t& Float64 & Float64 & Float64 & Float64 & Float64 & Float64 & Float64\\\\\n",
       "\t\\hline\n",
       "\t1 & 100.0 & 100.0 & 100.0 & 100.0 & 100.0 & -8.94482 & 87.5674 \\\\\n",
       "\t2 & 102.42 & 84.64 & 85.85 & 93.74 & 107.78 & -8.65664 & 75.8169 \\\\\n",
       "\t3 & 89.15 & 97.87 & 91.76 & 119.32 & 111.13 & -8.53891 & 71.4827 \\\\\n",
       "\t4 & 97.05 & 94.83 & 99.83 & 98.94 & 116.96 & -8.34224 & 64.7881 \\\\\n",
       "\t5 & 105.26 & 90.45 & 103.58 & 99.58 & 118.53 & -8.29096 & 63.1478 \\\\\n",
       "\t6 & 102.82 & 111.66 & 98.07 & 117.33 & 127.16 & -8.02064 & 55.1644 \\\\\n",
       "\t7 & 113.35 & 94.2 & 104.66 & 99.87 & 133.31 & -7.83897 & 50.3745 \\\\\n",
       "\t8 & 112.9 & 94.66 & 100.1 & 100.95 & 134.74 & -7.79793 & 49.3513 \\\\\n",
       "\t9 & 112.33 & 94.18 & 103.31 & 115.09 & 153.68 & -7.29204 & 38.3218 \\\\\n",
       "\t10 & 114.16 & 86.85 & 129.01 & 95.66 & 155.44 & -7.24824 & 37.4917 \\\\\n",
       "\t11 & 102.93 & 84.34 & 119.65 & 106.22 & 161.32 & -7.10542 & 34.9078 \\\\\n",
       "\t12 & 97.77 & 76.17 & 118.3 & 107.81 & 164.44 & -7.03174 & 33.6452 \\\\\n",
       "\t13 & 98.77 & 84.42 & 109.3 & 134.44 & 166.93 & -6.97394 & 32.6867 \\\\\n",
       "\t14 & 117.4 & 89.18 & 145.91 & 101.31 & 181.73 & -6.6472 & 27.7601 \\\\\n",
       "\t15 & 111.53 & 79.87 & 131.44 & 104.13 & 188.0 & -6.51673 & 26.007 \\\\\n",
       "\t16 & 112.3 & 80.37 & 110.58 & 115.97 & 188.74 & -6.50162 & 25.8113 \\\\\n",
       "\t17 & 112.01 & 80.64 & 135.4 & 105.13 & 189.13 & -6.49368 & 25.709 \\\\\n",
       "\t18 & 109.71 & 85.11 & 133.16 & 105.64 & 192.8 & -6.41976 & 24.7761 \\\\\n",
       "\t19 & 120.83 & 59.62 & 145.9 & 94.27 & 204.27 & -6.19748 & 22.17 \\\\\n",
       "\t20 & 96.4 & 71.68 & 153.22 & 125.41 & 208.78 & -6.11349 & 21.2582 \\\\\n",
       "\t21 & 108.18 & 72.01 & 146.77 & 111.99 & 216.62 & -5.9717 & 19.8033 \\\\\n",
       "\t22 & 109.3 & 51.04 & 140.25 & 93.01 & 217.8 & -5.9508 & 19.5975 \\\\\n",
       "\t23 & 112.03 & 82.34 & 137.61 & 117.14 & 222.11 & -5.87543 & 18.8727 \\\\\n",
       "\t24 & 117.42 & 76.96 & 130.23 & 108.45 & 222.31 & -5.87197 & 18.84 \\\\\n",
       "\t25 & 114.65 & 75.89 & 152.85 & 140.97 & 231.13 & -5.72232 & 17.4818 \\\\\n",
       "\t26 & 99.08 & 79.97 & 142.46 & 136.55 & 231.19 & -5.72132 & 17.473 \\\\\n",
       "\t27 & 117.44 & 72.24 & 142.57 & 133.53 & 234.25 & -5.67074 & 17.0367 \\\\\n",
       "\t28 & 116.0 & 65.47 & 165.98 & 93.82 & 241.95 & -5.54634 & 16.0093 \\\\\n",
       "\t29 & 124.85 & 66.36 & 170.58 & 94.22 & 242.16 & -5.54301 & 15.9826 \\\\\n",
       "\t30 & 122.69 & 74.33 & 182.04 & 117.34 & 254.95 & -5.34504 & 14.4764 \\\\\n",
       "\\end{tabular}\n"
      ],
      "text/plain": [
       "30×7 DataFrame\n",
       "│ Row │ PA      │ PB      │ PC      │ QA      │ Y       │ l_sigma2 │ w       │\n",
       "│     │ \u001b[90mFloat64\u001b[39m │ \u001b[90mFloat64\u001b[39m │ \u001b[90mFloat64\u001b[39m │ \u001b[90mFloat64\u001b[39m │ \u001b[90mFloat64\u001b[39m │ \u001b[90mFloat64\u001b[39m  │ \u001b[90mFloat64\u001b[39m │\n",
       "├─────┼─────────┼─────────┼─────────┼─────────┼─────────┼──────────┼─────────┤\n",
       "│ 1   │ 100.0   │ 100.0   │ 100.0   │ 100.0   │ 100.0   │ -8.94482 │ 87.5674 │\n",
       "│ 2   │ 102.42  │ 84.64   │ 85.85   │ 93.74   │ 107.78  │ -8.65664 │ 75.8169 │\n",
       "│ 3   │ 89.15   │ 97.87   │ 91.76   │ 119.32  │ 111.13  │ -8.53891 │ 71.4827 │\n",
       "│ 4   │ 97.05   │ 94.83   │ 99.83   │ 98.94   │ 116.96  │ -8.34224 │ 64.7881 │\n",
       "│ 5   │ 105.26  │ 90.45   │ 103.58  │ 99.58   │ 118.53  │ -8.29096 │ 63.1478 │\n",
       "│ 6   │ 102.82  │ 111.66  │ 98.07   │ 117.33  │ 127.16  │ -8.02064 │ 55.1644 │\n",
       "│ 7   │ 113.35  │ 94.2    │ 104.66  │ 99.87   │ 133.31  │ -7.83897 │ 50.3745 │\n",
       "│ 8   │ 112.9   │ 94.66   │ 100.1   │ 100.95  │ 134.74  │ -7.79793 │ 49.3513 │\n",
       "│ 9   │ 112.33  │ 94.18   │ 103.31  │ 115.09  │ 153.68  │ -7.29204 │ 38.3218 │\n",
       "│ 10  │ 114.16  │ 86.85   │ 129.01  │ 95.66   │ 155.44  │ -7.24824 │ 37.4917 │\n",
       "⋮\n",
       "│ 20  │ 96.4    │ 71.68   │ 153.22  │ 125.41  │ 208.78  │ -6.11349 │ 21.2582 │\n",
       "│ 21  │ 108.18  │ 72.01   │ 146.77  │ 111.99  │ 216.62  │ -5.9717  │ 19.8033 │\n",
       "│ 22  │ 109.3   │ 51.04   │ 140.25  │ 93.01   │ 217.8   │ -5.9508  │ 19.5975 │\n",
       "│ 23  │ 112.03  │ 82.34   │ 137.61  │ 117.14  │ 222.11  │ -5.87543 │ 18.8727 │\n",
       "│ 24  │ 117.42  │ 76.96   │ 130.23  │ 108.45  │ 222.31  │ -5.87197 │ 18.84   │\n",
       "│ 25  │ 114.65  │ 75.89   │ 152.85  │ 140.97  │ 231.13  │ -5.72232 │ 17.4818 │\n",
       "│ 26  │ 99.08   │ 79.97   │ 142.46  │ 136.55  │ 231.19  │ -5.72132 │ 17.473  │\n",
       "│ 27  │ 117.44  │ 72.24   │ 142.57  │ 133.53  │ 234.25  │ -5.67074 │ 17.0367 │\n",
       "│ 28  │ 116.0   │ 65.47   │ 165.98  │ 93.82   │ 241.95  │ -5.54634 │ 16.0093 │\n",
       "│ 29  │ 124.85  │ 66.36   │ 170.58  │ 94.22   │ 242.16  │ -5.54301 │ 15.9826 │\n",
       "│ 30  │ 122.69  │ 74.33   │ 182.04  │ 117.34  │ 254.95  │ -5.34504 │ 14.4764 │"
      ]
     },
     "execution_count": 101,
     "metadata": {},
     "output_type": "execute_result"
    }
   ],
   "source": [
    "DEM_HET = DEM_HET |> @mutate(w = sqrt(1/exp(_.l_sigma2))) |> DataFrame"
   ]
  },
  {
   "cell_type": "code",
   "execution_count": 102,
   "id": "77051087-58b0-4dfa-8f46-ecb9a91508c2",
   "metadata": {},
   "outputs": [
    {
     "data": {
      "text/plain": [
       "Continuous Response Model\n",
       "Number of observations: 1044\n",
       "Null Loglikelihood: -11215.36\n",
       "Loglikelihood: 1506.84\n",
       "R-squared: 0.7201\n",
       "LR Test: 25444.39 ∼ χ²(4) ⟹  Pr > χ² = 0.0000\n",
       "Formula: log(QA) ~ 1 + (log(PA)) + (log(PB)) + (log(PC)) + (log(Y))\n",
       "Variance Covariance Estimator: OIM\n",
       "───────────────────────────────────────────────────────────────────────────\n",
       "                 PE         SE      t-value  Pr > |t|      2.50%     97.50%\n",
       "───────────────────────────────────────────────────────────────────────────\n",
       "(Intercept)   4.53922   0.158825    28.58      <1e-99   4.22756    4.85087\n",
       "log(PA)      -0.907245  0.027864   -32.5598    <1e-99  -0.961921  -0.852569\n",
       "log(PB)       0.535968  0.0180149   29.7513    <1e-99   0.500618   0.571318\n",
       "log(PC)      -0.313914  0.0235907  -13.3067    <1e-36  -0.360205  -0.267623\n",
       "log(Y)        0.690464  0.0168955   40.8667    <1e-99   0.65731    0.723617\n",
       "───────────────────────────────────────────────────────────────────────────"
      ]
     },
     "execution_count": 102,
     "metadata": {},
     "output_type": "execute_result"
    }
   ],
   "source": [
    "# Estimación MCP\n",
    "modelo_MCP = fit(EconometricModel, @formula(log(QA) ~ log(PA) + log(PB) + log(PC)+ log(Y)), wts = :w , DEM_HET)"
   ]
  },
  {
   "cell_type": "code",
   "execution_count": 103,
   "id": "504f8357-2c73-4410-8c34-e174e1b119ee",
   "metadata": {},
   "outputs": [
    {
     "data": {
      "text/plain": [
       "30-element StatsBase.FrequencyWeights{Float64, Float64, Vector{Float64}}:\n",
       " 87.56743490022076\n",
       " 75.81692926521276\n",
       " 71.48274880619407\n",
       " 64.78809832186984\n",
       " 63.14781128425018\n",
       " 55.16439079394069\n",
       " 50.37445986428277\n",
       " 49.35131626764038\n",
       " 38.3217906492792\n",
       " 37.49167364312458\n",
       " 34.907831399292334\n",
       " 33.64523413348539\n",
       " 32.686710582030884\n",
       "  ⋮\n",
       " 22.170040291054388\n",
       " 21.258204280487757\n",
       " 19.803287712305636\n",
       " 19.597464476351977\n",
       " 18.87266644399996\n",
       " 18.84002758957197\n",
       " 17.481757404583114\n",
       " 17.473033412871143\n",
       " 17.036718577402034\n",
       " 16.009326576289464\n",
       " 15.982636636355476\n",
       " 14.476400343415293"
      ]
     },
     "execution_count": 103,
     "metadata": {},
     "output_type": "execute_result"
    }
   ],
   "source": [
    "weights(modelo_MCP)"
   ]
  },
  {
   "cell_type": "code",
   "execution_count": null,
   "id": "f56dff3a-003a-4465-93fd-b83bb8edae9f",
   "metadata": {},
   "outputs": [],
   "source": []
  }
 ],
 "metadata": {
  "kernelspec": {
   "display_name": "Julia 1.7.2",
   "language": "julia",
   "name": "julia-1.7"
  },
  "language_info": {
   "file_extension": ".jl",
   "mimetype": "application/julia",
   "name": "julia",
   "version": "1.7.2"
  }
 },
 "nbformat": 4,
 "nbformat_minor": 5
}
